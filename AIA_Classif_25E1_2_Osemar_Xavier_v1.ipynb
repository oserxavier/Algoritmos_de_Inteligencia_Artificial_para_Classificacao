<div style="display: flex; justify-content: center; align-items: center; height: 100vh;">
    <img src="https://curso.infnet.com.br/c/wp-content/uploads/sites/5/2022/12/Infnet-Logo.png" height="300" width="300">
</div>

<p><b><font size = 5 face = 'verdana'> Algoritmos de Inteligência Artificial para classificação [25E1_2] - PROJETO FINAL</font></b></p>
<p><font size = 3 face = 'verdana'>Trabalho apresentado à conclusão do curso de Algoritmos de Inteligência Artificial para classificação [25E1_2] do MIT em Inteligência Artificial, Machine Learning e Deep Learning, Instituto INFNET, como requisito parcial de avaliação. </font></b></p>
<p><font size = 3 face = 'verdana'><b>PROFESSOR:</b> Ícaro Augusto Maccari Zelioli<br>
<b>ALUNO:</b> Osemar da Silva Xavier<br>
<b>E-MAIL:</b> osemar.xavier@al.infnet.edu.br<br>
<b>GITHUB:</b>
<a href="https://www.kaggle.com/datasets/rohan0301/unsupervised-learning-on-country-data">https://www.kaggle.com/datasets/rohan0301/unsupervised-learning-on-country-data</a>

</font></p>

<p><font size = 3 face = 'verdana'>
<hr></hr>
