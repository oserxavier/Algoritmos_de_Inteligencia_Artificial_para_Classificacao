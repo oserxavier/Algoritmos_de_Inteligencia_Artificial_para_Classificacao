{
 "cells": [
  {
   "cell_type": "markdown",
   "metadata": {
    "id": "eLZGmHciwnMi"
   },
   "source": [
    "<div style=\"display: flex; justify-content: center; align-items: center; height: 100vh;\">\n",
    "    <img src=\"https://curso.infnet.com.br/c/wp-content/uploads/sites/5/2022/12/Infnet-Logo.png\" height=\"300\" width=\"300\">\n",
    "</div>\n",
    "\n",
    "<p><b><font size = 5 face = 'verdana'> Algoritmos de Inteligência Artificial para classificação [25E1_2] - PROJETO FINAL</font></b></p>\n",
    "<p><font size = 3 face = 'verdana'>Trabalho apresentado à conclusão do curso de Algoritmos de Inteligência Artificial para classificação [25E1_2] do MIT em Inteligência Artificial, Machine Learning e Deep Learning, Instituto INFNET, como requisito parcial de avaliação. </font></b></p>\n",
    "<p><font size = 3 face = 'verdana'><b>PROFESSOR:</b> Ícaro Augusto Maccari Zelioli<br>\n",
    "<b>ALUNO:</b> Osemar da Silva Xavier<br>\n",
    "<b>E-MAIL:</b> osemar.xavier@al.infnet.edu.br<br>\n",
    "<b>GITHUB:</b>\n",
    "<a href=\"https://www.kaggle.com/datasets/rohan0301/unsupervised-learning-on-country-data\">https://www.kaggle.com/datasets/rohan0301/unsupervised-learning-on-country-data</a>\n",
    "\n",
    "</font></p>\n",
    "\n",
    "<p><font size = 3 face = 'verdana'>\n",
    "<hr></hr>\n"
   ]
  },
  {
   "cell_type": "markdown",
   "metadata": {
    "id": "NWwAzcQDaWSO"
   },
   "source": [
    "# **Projeto de Machine Learning - Classificação de Vinhos**\n",
    "\n",
    "## **Introdução**\n",
    "\n",
    "Nesta disciplina, aplicamos nossos conhecimentos em **algoritmos supervisionados**, uma das principais abordagens do **aprendizado de máquina** utilizada no dia a dia de um cientista de dados.\n",
    "\n",
    "## **Objetivo**\n",
    "- Realizar a **classificação de vinhos verdes portugueses** utilizando diferentes modelos de **Machine Learning**.\n",
    "- Comparar a **eficiência dos modelos** e selecionar o mais adequado.\n",
    "- Aplicar o modelo **escolhido** para prever a qualidade dos vinhos tintos.\n",
    "\n",
    "\n",
    "\n",
    "\n",
    "\n",
    "---"
   ]
  },
  {
   "cell_type": "markdown",
   "metadata": {
    "id": "VTCkp4JSZk1Z"
   },
   "source": [
    "## **Etapa 1 - Módulo Kaggle**\n",
    "\n",
    "1. Antes de iniciar o trabalho, é necessário completar o curso **\"Intro to Machine Learning\"** do Kaggle.  \n",
    "2. A conclusão deve ser comprovada com um **print contendo a data e identificação do aluno**.\n",
    "\n",
    "Link do certificado: [Kaggle - Intro to Machine Learning](https://www.kaggle.com/learn/certification/oserxavier/intro-to-machine-learning)\n",
    "\n",
    "<div style=\"display: flex; justify-content: center; align-items: center; height: 100vh;\">\n",
    "    <img src=\"https://raw.githubusercontent.com/oserxavier/Machine-Learning/refs/heads/main/figures/kaggle.png\" height=\"550\" width=\"1400\">\n",
    "</div>"
   ]
  },
  {
   "cell_type": "markdown",
   "metadata": {
    "id": "D5W6EAdpcWEZ"
   },
   "source": [
    "---\n",
    "## **Etapa 2 - Base de Dados**\n",
    "\n",
    "### **Download da Base**\n",
    "Utilizaremos a **base de dados de vinhos verdes portugueses** disponível no Kaggle e mencionada no artigo:\n",
    "\n",
    "> P. Cortez, A. Cerdeira, F. Almeida, T. Matos and J. Reis.  \n",
    "> *Modeling wine preferences by data mining from physicochemical properties.*  \n",
    "> In **Decision Support Systems, Elsevier, 47(4):547-553, 2009**.\n",
    "\n",
    "Link do conjunto de dados: [Wine Quality Dataset - Kaggle](https://www.kaggle.com/datasets/ruthgn/wine-quality-data-set-red-white-wine)\n",
    "\n",
    "### **Transformação dos Dados**\n",
    "A base contém a variável `quality` com notas de **0 a 10** representando a qualidade do vinho.  \n",
    "Criamos uma **nova variável categórica `opinion`**, definida como:\n",
    "\n",
    "- `opinion = 0` → quando `quality ≤ 5` (vinho ruim)\n",
    "- `opinion = 1` → quando `quality > 5` (vinho bom)\n",
    "\n",
    "Após essa transformação, a variável `quality` será **removida** da análise.\n",
    "\n",
    "---"
   ]
  },
  {
   "cell_type": "markdown",
   "metadata": {
    "id": "EEdO_nZN9Ilc"
   },
   "source": [
    "Fiz a instalação do `opendatasets` que é uma biblioteca Python que facilita o download de datasets públicos de plataformas como Kaggle, sem a necessidade de baixar manualmente pelo navegador.\n",
    "<hr>"
   ]
  },
  {
   "cell_type": "code",
   "execution_count": 1,
   "metadata": {
    "colab": {
     "base_uri": "https://localhost:8080/",
     "height": 0
    },
    "id": "yMaonaaR9Kzv",
    "outputId": "17a35302-777f-406a-eca9-164e8c67987b"
   },
   "outputs": [
    {
     "name": "stdout",
     "output_type": "stream",
     "text": [
      "Collecting opendatasets\n",
      "  Downloading opendatasets-0.1.22-py3-none-any.whl (15 kB)\n",
      "Requirement already satisfied: click in c:\\users\\oser xavier\\anaconda3\\lib\\site-packages (from opendatasets) (8.0.4)\n",
      "Collecting kaggle\n",
      "  Downloading kaggle-1.6.17.tar.gz (82 kB)\n",
      "     ---------------------------------------- 82.7/82.7 kB 1.5 MB/s eta 0:00:00\n",
      "  Preparing metadata (setup.py): started\n",
      "  Preparing metadata (setup.py): finished with status 'done'\n",
      "Requirement already satisfied: tqdm in c:\\users\\oser xavier\\anaconda3\\lib\\site-packages (from opendatasets) (4.64.1)\n",
      "Requirement already satisfied: colorama in c:\\users\\oser xavier\\anaconda3\\lib\\site-packages (from click->opendatasets) (0.4.6)\n",
      "Requirement already satisfied: six>=1.10 in c:\\users\\oser xavier\\anaconda3\\lib\\site-packages (from kaggle->opendatasets) (1.16.0)\n",
      "Collecting certifi>=2023.7.22\n",
      "  Downloading certifi-2025.1.31-py3-none-any.whl (166 kB)\n",
      "     -------------------------------------- 166.4/166.4 kB 3.3 MB/s eta 0:00:00\n",
      "Requirement already satisfied: python-dateutil in c:\\users\\oser xavier\\anaconda3\\lib\\site-packages (from kaggle->opendatasets) (2.8.2)\n",
      "Requirement already satisfied: requests in c:\\users\\oser xavier\\anaconda3\\lib\\site-packages (from kaggle->opendatasets) (2.28.1)\n",
      "Requirement already satisfied: python-slugify in c:\\users\\oser xavier\\anaconda3\\lib\\site-packages (from kaggle->opendatasets) (5.0.2)\n",
      "Requirement already satisfied: urllib3 in c:\\users\\oser xavier\\anaconda3\\lib\\site-packages (from kaggle->opendatasets) (1.26.14)\n",
      "Requirement already satisfied: bleach in c:\\users\\oser xavier\\anaconda3\\lib\\site-packages (from kaggle->opendatasets) (4.1.0)\n",
      "Requirement already satisfied: webencodings in c:\\users\\oser xavier\\anaconda3\\lib\\site-packages (from bleach->kaggle->opendatasets) (0.5.1)\n",
      "Requirement already satisfied: packaging in c:\\users\\oser xavier\\anaconda3\\lib\\site-packages (from bleach->kaggle->opendatasets) (22.0)\n",
      "Requirement already satisfied: text-unidecode>=1.3 in c:\\users\\oser xavier\\anaconda3\\lib\\site-packages (from python-slugify->kaggle->opendatasets) (1.3)\n",
      "Requirement already satisfied: idna<4,>=2.5 in c:\\users\\oser xavier\\anaconda3\\lib\\site-packages (from requests->kaggle->opendatasets) (3.4)\n",
      "Requirement already satisfied: charset-normalizer<3,>=2 in c:\\users\\oser xavier\\anaconda3\\lib\\site-packages (from requests->kaggle->opendatasets) (2.0.4)\n",
      "Building wheels for collected packages: kaggle\n",
      "  Building wheel for kaggle (setup.py): started\n",
      "  Building wheel for kaggle (setup.py): finished with status 'done'\n",
      "  Created wheel for kaggle: filename=kaggle-1.6.17-py3-none-any.whl size=105802 sha256=ea14e71e28c35cb99d2ac9cc2e33b33660585f034bc70311a86130738aab7f68\n",
      "  Stored in directory: c:\\users\\oser xavier\\appdata\\local\\pip\\cache\\wheels\\14\\e4\\0d\\a3409c4d5ec4fcc54cdd5713cacfcdcff6125e9d5392d7cd92\n",
      "Successfully built kaggle\n",
      "Installing collected packages: certifi, kaggle, opendatasets\n",
      "  Attempting uninstall: certifi\n",
      "    Found existing installation: certifi 2022.12.7\n",
      "    Uninstalling certifi-2022.12.7:\n",
      "      Successfully uninstalled certifi-2022.12.7\n",
      "Successfully installed certifi-2025.1.31 kaggle-1.6.17 opendatasets-0.1.22\n"
     ]
    },
    {
     "name": "stderr",
     "output_type": "stream",
     "text": [
      "ERROR: pip's dependency resolver does not currently take into account all the packages that are installed. This behaviour is the source of the following dependency conflicts.\n",
      "conda-repo-cli 1.0.41 requires requests_mock, which is not installed.\n",
      "conda-repo-cli 1.0.41 requires clyent==1.2.1, but you have clyent 1.2.2 which is incompatible.\n",
      "conda-repo-cli 1.0.41 requires nbformat==5.4.0, but you have nbformat 5.7.0 which is incompatible.\n"
     ]
    }
   ],
   "source": [
    "# Instalando a API do Kaggle para baixar o dataset\n",
    "!pip install opendatasets"
   ]
  },
  {
   "cell_type": "code",
   "execution_count": 2,
   "metadata": {
    "colab": {
     "base_uri": "https://localhost:8080/",
     "height": 0
    },
    "id": "EUButndncpaZ",
    "outputId": "fc533a48-51a5-4d57-bcaf-d96625ccad5b"
   },
   "outputs": [
    {
     "name": "stdout",
     "output_type": "stream",
     "text": [
      "Please provide your Kaggle credentials to download this dataset. Learn more: http://bit.ly/kaggle-creds\n",
      "Your Kaggle username:"
     ]
    },
    {
     "name": "stdin",
     "output_type": "stream",
     "text": [
      "  oserxavier\n"
     ]
    },
    {
     "name": "stdout",
     "output_type": "stream",
     "text": [
      "Your Kaggle Key:"
     ]
    },
    {
     "name": "stdin",
     "output_type": "stream",
     "text": [
      "  ········\n"
     ]
    },
    {
     "name": "stdout",
     "output_type": "stream",
     "text": [
      "Dataset URL: https://www.kaggle.com/datasets/ruthgn/wine-quality-data-set-red-white-wine\n",
      "Downloading wine-quality-data-set-red-white-wine.zip to .\\wine-quality-data-set-red-white-wine\n"
     ]
    },
    {
     "name": "stderr",
     "output_type": "stream",
     "text": [
      "100%|██████████| 98.0k/98.0k [00:00<00:00, 354kB/s]"
     ]
    },
    {
     "name": "stdout",
     "output_type": "stream",
     "text": [
      "\n"
     ]
    },
    {
     "name": "stderr",
     "output_type": "stream",
     "text": [
      "\n"
     ]
    }
   ],
   "source": [
    "import opendatasets as od\n",
    "import os\n",
    "import pandas as pd\n",
    "\n",
    "# Baixar os dados do Kaggle (certifique-se de ter um API Key do Kaggle configurado)\n",
    "dataset_url = \"https://www.kaggle.com/datasets/ruthgn/wine-quality-data-set-red-white-wine\"\n",
    "od.download(dataset_url)\n"
   ]
  },
  {
   "cell_type": "code",
   "execution_count": 3,
   "metadata": {
    "colab": {
     "base_uri": "https://localhost:8080/",
     "height": 0
    },
    "id": "iwnKcrVehVEH",
    "outputId": "047989b7-bd63-4d0d-faf0-90353be3991f"
   },
   "outputs": [
    {
     "name": "stdout",
     "output_type": "stream",
     "text": [
      "\n",
      " Dados dos vinhos brancos filtrados com sucesso!\n"
     ]
    }
   ],
   "source": [
    "# Definir o caminho correto do arquivo (ajustado para o nome real)\n",
    "wine_path = \"wine-quality-data-set-red-white-wine/wine-quality-white-and-red.csv\"\n",
    "\n",
    "# Carregar os dados completos (tintos e brancos)\n",
    "df_wine = pd.read_csv(wine_path, sep=\",\")\n",
    "\n",
    "# Verificar se há uma coluna chamada 'type' para distinguir os vinhos\n",
    "if \"type\" in df_wine.columns:\n",
    "    # Filtrar apenas os vinhos brancos\n",
    "    df_white = df_wine[df_wine[\"type\"] == \"white\"].copy()\n",
    "\n",
    "    # Criar a variável 'opinion'\n",
    "    df_white[\"opinion\"] = (df_white[\"quality\"] > 5).astype(int)\n",
    "\n",
    "    # Remover a variável 'quality'\n",
    "    df_white.drop(columns=[\"quality\"], inplace=True)\n",
    "\n",
    "    # Exibir as 5 primeiras linhas para confirmação\n",
    "    print(\"\\n Dados dos vinhos brancos filtrados com sucesso!\")\n",
    "    df_white.head()\n",
    "else:\n",
    "    print(\"A coluna 'type' não foi encontrada! Verifique a estrutura do dataset.\")\n"
   ]
  },
  {
   "cell_type": "code",
   "execution_count": 4,
   "metadata": {
    "colab": {
     "base_uri": "https://localhost:8080/",
     "height": 206
    },
    "id": "hw0_b-llgdPq",
    "outputId": "9b1064b8-e0ed-48be-ec03-add7df22e7c8"
   },
   "outputs": [
    {
     "data": {
      "text/html": [
       "<div>\n",
       "<style scoped>\n",
       "    .dataframe tbody tr th:only-of-type {\n",
       "        vertical-align: middle;\n",
       "    }\n",
       "\n",
       "    .dataframe tbody tr th {\n",
       "        vertical-align: top;\n",
       "    }\n",
       "\n",
       "    .dataframe thead th {\n",
       "        text-align: right;\n",
       "    }\n",
       "</style>\n",
       "<table border=\"1\" class=\"dataframe\">\n",
       "  <thead>\n",
       "    <tr style=\"text-align: right;\">\n",
       "      <th></th>\n",
       "      <th>type</th>\n",
       "      <th>fixed acidity</th>\n",
       "      <th>volatile acidity</th>\n",
       "      <th>citric acid</th>\n",
       "      <th>residual sugar</th>\n",
       "      <th>chlorides</th>\n",
       "      <th>free sulfur dioxide</th>\n",
       "      <th>total sulfur dioxide</th>\n",
       "      <th>density</th>\n",
       "      <th>pH</th>\n",
       "      <th>sulphates</th>\n",
       "      <th>alcohol</th>\n",
       "      <th>opinion</th>\n",
       "    </tr>\n",
       "  </thead>\n",
       "  <tbody>\n",
       "    <tr>\n",
       "      <th>0</th>\n",
       "      <td>white</td>\n",
       "      <td>7.0</td>\n",
       "      <td>0.27</td>\n",
       "      <td>0.36</td>\n",
       "      <td>20.7</td>\n",
       "      <td>0.045</td>\n",
       "      <td>45.0</td>\n",
       "      <td>170.0</td>\n",
       "      <td>1.0010</td>\n",
       "      <td>3.00</td>\n",
       "      <td>0.45</td>\n",
       "      <td>8.8</td>\n",
       "      <td>1</td>\n",
       "    </tr>\n",
       "    <tr>\n",
       "      <th>1</th>\n",
       "      <td>white</td>\n",
       "      <td>6.3</td>\n",
       "      <td>0.30</td>\n",
       "      <td>0.34</td>\n",
       "      <td>1.6</td>\n",
       "      <td>0.049</td>\n",
       "      <td>14.0</td>\n",
       "      <td>132.0</td>\n",
       "      <td>0.9940</td>\n",
       "      <td>3.30</td>\n",
       "      <td>0.49</td>\n",
       "      <td>9.5</td>\n",
       "      <td>1</td>\n",
       "    </tr>\n",
       "    <tr>\n",
       "      <th>2</th>\n",
       "      <td>white</td>\n",
       "      <td>8.1</td>\n",
       "      <td>0.28</td>\n",
       "      <td>0.40</td>\n",
       "      <td>6.9</td>\n",
       "      <td>0.050</td>\n",
       "      <td>30.0</td>\n",
       "      <td>97.0</td>\n",
       "      <td>0.9951</td>\n",
       "      <td>3.26</td>\n",
       "      <td>0.44</td>\n",
       "      <td>10.1</td>\n",
       "      <td>1</td>\n",
       "    </tr>\n",
       "    <tr>\n",
       "      <th>3</th>\n",
       "      <td>white</td>\n",
       "      <td>7.2</td>\n",
       "      <td>0.23</td>\n",
       "      <td>0.32</td>\n",
       "      <td>8.5</td>\n",
       "      <td>0.058</td>\n",
       "      <td>47.0</td>\n",
       "      <td>186.0</td>\n",
       "      <td>0.9956</td>\n",
       "      <td>3.19</td>\n",
       "      <td>0.40</td>\n",
       "      <td>9.9</td>\n",
       "      <td>1</td>\n",
       "    </tr>\n",
       "    <tr>\n",
       "      <th>4</th>\n",
       "      <td>white</td>\n",
       "      <td>7.2</td>\n",
       "      <td>0.23</td>\n",
       "      <td>0.32</td>\n",
       "      <td>8.5</td>\n",
       "      <td>0.058</td>\n",
       "      <td>47.0</td>\n",
       "      <td>186.0</td>\n",
       "      <td>0.9956</td>\n",
       "      <td>3.19</td>\n",
       "      <td>0.40</td>\n",
       "      <td>9.9</td>\n",
       "      <td>1</td>\n",
       "    </tr>\n",
       "  </tbody>\n",
       "</table>\n",
       "</div>"
      ],
      "text/plain": [
       "    type  fixed acidity  volatile acidity  citric acid  residual sugar  \\\n",
       "0  white            7.0              0.27         0.36            20.7   \n",
       "1  white            6.3              0.30         0.34             1.6   \n",
       "2  white            8.1              0.28         0.40             6.9   \n",
       "3  white            7.2              0.23         0.32             8.5   \n",
       "4  white            7.2              0.23         0.32             8.5   \n",
       "\n",
       "   chlorides  free sulfur dioxide  total sulfur dioxide  density    pH  \\\n",
       "0      0.045                 45.0                 170.0   1.0010  3.00   \n",
       "1      0.049                 14.0                 132.0   0.9940  3.30   \n",
       "2      0.050                 30.0                  97.0   0.9951  3.26   \n",
       "3      0.058                 47.0                 186.0   0.9956  3.19   \n",
       "4      0.058                 47.0                 186.0   0.9956  3.19   \n",
       "\n",
       "   sulphates  alcohol  opinion  \n",
       "0       0.45      8.8        1  \n",
       "1       0.49      9.5        1  \n",
       "2       0.44     10.1        1  \n",
       "3       0.40      9.9        1  \n",
       "4       0.40      9.9        1  "
      ]
     },
     "execution_count": 4,
     "metadata": {},
     "output_type": "execute_result"
    }
   ],
   "source": [
    "# Verificando as 5 primeiras linhas do dataset\n",
    "df_white.head()"
   ]
  },
  {
   "cell_type": "markdown",
   "metadata": {
    "id": "Ur6FeLd7Bbjq"
   },
   "source": [
    "---\n",
    "## **Etapa 3 - Análise das Variáveis**\n",
    "\n",
    "- **Listar as variáveis** presentes na base.\n",
    "- **Classificar as variáveis** em **discretas, categóricas ou contínuas**.\n",
    "- **Calcular estatísticas descritivas**, como **média e desvio padrão**.\n",
    "\n",
    "---"
   ]
  },
  {
   "cell_type": "code",
   "execution_count": 5,
   "metadata": {
    "colab": {
     "base_uri": "https://localhost:8080/",
     "height": 0
    },
    "id": "c8Vmxa7kdYsw",
    "outputId": "9d9fad34-6744-47a1-8e46-5bf5d63ce056"
   },
   "outputs": [
    {
     "name": "stdout",
     "output_type": "stream",
     "text": [
      "Variáveis presentes na base de vinhos brancos:\n",
      "['type', 'fixed acidity', 'volatile acidity', 'citric acid', 'residual sugar', 'chlorides', 'free sulfur dioxide', 'total sulfur dioxide', 'density', 'pH', 'sulphates', 'alcohol', 'opinion']\n"
     ]
    }
   ],
   "source": [
    "# Exibir todas as colunas da base de dados\n",
    "print(\"Variáveis presentes na base de vinhos brancos:\")\n",
    "print(df_white.columns.tolist())"
   ]
  },
  {
   "cell_type": "code",
   "execution_count": 6,
   "metadata": {
    "colab": {
     "base_uri": "https://localhost:8080/",
     "height": 0
    },
    "id": "oURO-IjuB_v_",
    "outputId": "9b398fbb-a2c9-4091-92ad-6089f96cfd32"
   },
   "outputs": [
    {
     "name": "stdout",
     "output_type": "stream",
     "text": [
      "Tipos de variáveis na base:\n",
      " \n",
      "type                     object\n",
      "fixed acidity           float64\n",
      "volatile acidity        float64\n",
      "citric acid             float64\n",
      "residual sugar          float64\n",
      "chlorides               float64\n",
      "free sulfur dioxide     float64\n",
      "total sulfur dioxide    float64\n",
      "density                 float64\n",
      "pH                      float64\n",
      "sulphates               float64\n",
      "alcohol                 float64\n",
      "opinion                   int32\n",
      "dtype: object\n"
     ]
    }
   ],
   "source": [
    "# Verificar os tipos de dados de cada variável\n",
    "print(\"Tipos de variáveis na base:\\n \")\n",
    "print(df_white.dtypes)"
   ]
  },
  {
   "cell_type": "code",
   "execution_count": 7,
   "metadata": {
    "colab": {
     "base_uri": "https://localhost:8080/",
     "height": 443
    },
    "id": "ZRN8NYeSCZNa",
    "outputId": "1fd45fdd-5539-4398-bf09-cdd6a5ba68e6"
   },
   "outputs": [
    {
     "data": {
      "text/html": [
       "<style type=\"text/css\">\n",
       "</style>\n",
       "<table id=\"T_caee8\">\n",
       "  <caption>Estatísticas Descritivas</caption>\n",
       "  <thead>\n",
       "    <tr>\n",
       "      <th class=\"blank level0\" >&nbsp;</th>\n",
       "      <th id=\"T_caee8_level0_col0\" class=\"col_heading level0 col0\" >mean</th>\n",
       "      <th id=\"T_caee8_level0_col1\" class=\"col_heading level0 col1\" >std</th>\n",
       "    </tr>\n",
       "  </thead>\n",
       "  <tbody>\n",
       "    <tr>\n",
       "      <th id=\"T_caee8_level0_row0\" class=\"row_heading level0 row0\" >fixed acidity</th>\n",
       "      <td id=\"T_caee8_row0_col0\" class=\"data row0 col0\" >6.854788</td>\n",
       "      <td id=\"T_caee8_row0_col1\" class=\"data row0 col1\" >0.843868</td>\n",
       "    </tr>\n",
       "    <tr>\n",
       "      <th id=\"T_caee8_level0_row1\" class=\"row_heading level0 row1\" >volatile acidity</th>\n",
       "      <td id=\"T_caee8_row1_col0\" class=\"data row1 col0\" >0.278241</td>\n",
       "      <td id=\"T_caee8_row1_col1\" class=\"data row1 col1\" >0.100795</td>\n",
       "    </tr>\n",
       "    <tr>\n",
       "      <th id=\"T_caee8_level0_row2\" class=\"row_heading level0 row2\" >citric acid</th>\n",
       "      <td id=\"T_caee8_row2_col0\" class=\"data row2 col0\" >0.334192</td>\n",
       "      <td id=\"T_caee8_row2_col1\" class=\"data row2 col1\" >0.121020</td>\n",
       "    </tr>\n",
       "    <tr>\n",
       "      <th id=\"T_caee8_level0_row3\" class=\"row_heading level0 row3\" >residual sugar</th>\n",
       "      <td id=\"T_caee8_row3_col0\" class=\"data row3 col0\" >6.391415</td>\n",
       "      <td id=\"T_caee8_row3_col1\" class=\"data row3 col1\" >5.072058</td>\n",
       "    </tr>\n",
       "    <tr>\n",
       "      <th id=\"T_caee8_level0_row4\" class=\"row_heading level0 row4\" >chlorides</th>\n",
       "      <td id=\"T_caee8_row4_col0\" class=\"data row4 col0\" >0.045772</td>\n",
       "      <td id=\"T_caee8_row4_col1\" class=\"data row4 col1\" >0.021848</td>\n",
       "    </tr>\n",
       "    <tr>\n",
       "      <th id=\"T_caee8_level0_row5\" class=\"row_heading level0 row5\" >free sulfur dioxide</th>\n",
       "      <td id=\"T_caee8_row5_col0\" class=\"data row5 col0\" >35.308085</td>\n",
       "      <td id=\"T_caee8_row5_col1\" class=\"data row5 col1\" >17.007137</td>\n",
       "    </tr>\n",
       "    <tr>\n",
       "      <th id=\"T_caee8_level0_row6\" class=\"row_heading level0 row6\" >total sulfur dioxide</th>\n",
       "      <td id=\"T_caee8_row6_col0\" class=\"data row6 col0\" >138.360657</td>\n",
       "      <td id=\"T_caee8_row6_col1\" class=\"data row6 col1\" >42.498065</td>\n",
       "    </tr>\n",
       "    <tr>\n",
       "      <th id=\"T_caee8_level0_row7\" class=\"row_heading level0 row7\" >density</th>\n",
       "      <td id=\"T_caee8_row7_col0\" class=\"data row7 col0\" >0.994027</td>\n",
       "      <td id=\"T_caee8_row7_col1\" class=\"data row7 col1\" >0.002991</td>\n",
       "    </tr>\n",
       "    <tr>\n",
       "      <th id=\"T_caee8_level0_row8\" class=\"row_heading level0 row8\" >pH</th>\n",
       "      <td id=\"T_caee8_row8_col0\" class=\"data row8 col0\" >3.188267</td>\n",
       "      <td id=\"T_caee8_row8_col1\" class=\"data row8 col1\" >0.151001</td>\n",
       "    </tr>\n",
       "    <tr>\n",
       "      <th id=\"T_caee8_level0_row9\" class=\"row_heading level0 row9\" >sulphates</th>\n",
       "      <td id=\"T_caee8_row9_col0\" class=\"data row9 col0\" >0.489847</td>\n",
       "      <td id=\"T_caee8_row9_col1\" class=\"data row9 col1\" >0.114126</td>\n",
       "    </tr>\n",
       "    <tr>\n",
       "      <th id=\"T_caee8_level0_row10\" class=\"row_heading level0 row10\" >alcohol</th>\n",
       "      <td id=\"T_caee8_row10_col0\" class=\"data row10 col0\" >10.514267</td>\n",
       "      <td id=\"T_caee8_row10_col1\" class=\"data row10 col1\" >1.230621</td>\n",
       "    </tr>\n",
       "    <tr>\n",
       "      <th id=\"T_caee8_level0_row11\" class=\"row_heading level0 row11\" >opinion</th>\n",
       "      <td id=\"T_caee8_row11_col0\" class=\"data row11 col0\" >0.665169</td>\n",
       "      <td id=\"T_caee8_row11_col1\" class=\"data row11 col1\" >0.471979</td>\n",
       "    </tr>\n",
       "  </tbody>\n",
       "</table>\n"
      ],
      "text/plain": [
       "<pandas.io.formats.style.Styler at 0x1e4e5dd64d0>"
      ]
     },
     "metadata": {},
     "output_type": "display_data"
    }
   ],
   "source": [
    "# Calcular média e desvio padrão de todas as variáveis numéricas\n",
    "stats = df_white.describe().T[['mean', 'std']]\n",
    "\n",
    "# Exibir os resultados utilizando display do pandas\n",
    "display(stats.style.set_caption(\"Estatísticas Descritivas\")) # Using pandas styling for caption"
   ]
  },
  {
   "cell_type": "markdown",
   "metadata": {
    "id": "YZYNeQIvDpA4"
   },
   "source": [
    "---\n",
    "## **Valores ausentes**\n",
    "\n",
    "- Antes da próxima etapa, considerei **`contar quantos valores ausentes (NaN)`** existem em cada coluna, para esse dataset não temos registros de valores ausentes. Como não temos, não será necessário utilizar uma estratégia para tratamento\n",
    "---"
   ]
  },
  {
   "cell_type": "code",
   "execution_count": 8,
   "metadata": {
    "colab": {
     "base_uri": "https://localhost:8080/",
     "height": 0
    },
    "id": "c3c4fZ6yDHVg",
    "outputId": "5f507fac-7f4b-4cfc-9cc4-9fb6c56f86fb"
   },
   "outputs": [
    {
     "name": "stdout",
     "output_type": "stream",
     "text": [
      "type                    0\n",
      "fixed acidity           0\n",
      "volatile acidity        0\n",
      "citric acid             0\n",
      "residual sugar          0\n",
      "chlorides               0\n",
      "free sulfur dioxide     0\n",
      "total sulfur dioxide    0\n",
      "density                 0\n",
      "pH                      0\n",
      "sulphates               0\n",
      "alcohol                 0\n",
      "opinion                 0\n",
      "dtype: int64\n"
     ]
    }
   ],
   "source": [
    "# Contar valores ausentes em cada coluna\n",
    "missing_values = df_white.isnull().sum()\n",
    "print(missing_values)"
   ]
  },
  {
   "cell_type": "markdown",
   "metadata": {
    "id": "L94hZSepFORk"
   },
   "source": [
    "---\n",
    "## **Etapa 4 - Modelagem Preditiva**\n",
    "\n",
    "Utilizaremos **apenas os vinhos brancos** para o treinamento dos modelos.\n",
    "\n",
    "### **4.1 - Construção do Modelo**\n",
    "Passos para criar um **modelo de classificação eficiente**:\n",
    "1. **Pré-processamento dos dados** (padronização, limpeza, separação entre treino/teste).\n",
    "2. **Escolha dos modelos de Machine Learning** para experimentação.\n",
    "3. **Validação cruzada estratificada (k-fold = 10)** para avaliar a generalização.\n",
    "4. **Treinamento e ajuste dos hiperparâmetros** para otimização.\n",
    "5. **Avaliação com métricas padronizadas**.\n",
    "---"
   ]
  },
  {
   "cell_type": "code",
   "execution_count": 9,
   "metadata": {
    "colab": {
     "base_uri": "https://localhost:8080/",
     "height": 0
    },
    "id": "kGChIMLsFNUH",
    "outputId": "edb30c8a-8ae6-4e0e-934d-8dbfbbfaa093"
   },
   "outputs": [
    {
     "name": "stdout",
     "output_type": "stream",
     "text": [
      "Dados corrigidos e preparados para modelagem!\n"
     ]
    }
   ],
   "source": [
    "from sklearn.model_selection import train_test_split\n",
    "from sklearn.preprocessing import StandardScaler\n",
    "\n",
    "# Remover a coluna categórica 'type' antes da modelagem\n",
    "X = df_white.drop(columns=[\"opinion\", \"type\"])  # Removendo 'type'\n",
    "y = df_white[\"opinion\"]\n",
    "\n",
    "# Dividir os dados em treino (80%) e teste (20%)\n",
    "X_train, X_test, y_train, y_test = train_test_split(X, y, test_size=0.2, random_state=42, stratify=y)\n",
    "\n",
    "# Padronizar os dados (somente variáveis numéricas)\n",
    "scaler = StandardScaler()\n",
    "X_train_scaled = scaler.fit_transform(X_train)\n",
    "X_test_scaled = scaler.transform(X_test)\n",
    "\n",
    "print(\"Dados corrigidos e preparados para modelagem!\")\n"
   ]
  },
  {
   "cell_type": "markdown",
   "metadata": {
    "id": "MgdWQQ8SHZtB"
   },
   "source": [
    "---\n",
    "## **Função para Avaliação dos Modelos**\n",
    "\n",
    "Nessa etapa criei uma função que aplicará a **`Validação Cruzada (k=10)`** e calculará as **`métricas`**:\n",
    "\n",
    "- Acurácia\n",
    "- Precisão\n",
    "- Recall\n",
    "- F1-Score\n",
    "---\n"
   ]
  },
  {
   "cell_type": "code",
   "execution_count": 10,
   "metadata": {
    "id": "T78kzox9HOr2"
   },
   "outputs": [],
   "source": [
    "from sklearn.model_selection import cross_val_score, StratifiedKFold\n",
    "from sklearn.metrics import make_scorer, accuracy_score, precision_score, recall_score, f1_score\n",
    "import numpy as np\n",
    "\n",
    "# Criar um validador estratificado com k=10\n",
    "cv = StratifiedKFold(n_splits=10, shuffle=True, random_state=42)\n",
    "\n",
    "# Função para treinar e avaliar um modelo com validação cruzada\n",
    "def avaliar_modelo(modelo, X_train, y_train):\n",
    "    scores = {\n",
    "        \"Acurácia\": cross_val_score(modelo, X_train, y_train, cv=cv, scoring=\"accuracy\"),\n",
    "        \"Precisão\": cross_val_score(modelo, X_train, y_train, cv=cv, scoring=\"precision\"),\n",
    "        \"Recall\": cross_val_score(modelo, X_train, y_train, cv=cv, scoring=\"recall\"),\n",
    "        \"F1-Score\": cross_val_score(modelo, X_train, y_train, cv=cv, scoring=\"f1\")\n",
    "    }\n",
    "\n",
    "    # Exibir os resultados médios e desvios padrão\n",
    "    for metric, values in scores.items():\n",
    "        print(f\"{metric}: {np.mean(values):.4f} ± {np.std(values):.4f}\")\n",
    "\n",
    "    return scores"
   ]
  },
  {
   "cell_type": "markdown",
   "metadata": {
    "id": "y0ON30LsG6UL"
   },
   "source": [
    "---\n",
    "### **4.2 - Regressão Logística**\n",
    "Treinamos um **modelo de regressão logística** com **validação cruzada estratificada (k=10)**.  \n",
    "Avaliamos os seguintes indicadores na base de teste:\n",
    "- **Média e desvio padrão da acurácia**.\n",
    "- **Média e desvio padrão da precisão**.\n",
    "- **Média e desvio padrão do recall**.\n",
    "- **Média e desvio padrão do F1-score**.\n",
    "---"
   ]
  },
  {
   "cell_type": "code",
   "execution_count": 11,
   "metadata": {
    "colab": {
     "base_uri": "https://localhost:8080/",
     "height": 0
    },
    "id": "IZZ70lqLG4Yp",
    "outputId": "8cc32b14-8d07-485a-eb97-7af98f146eea"
   },
   "outputs": [
    {
     "name": "stdout",
     "output_type": "stream",
     "text": [
      "Avaliação da Regressão Logística:\n",
      " \n",
      "Acurácia: 0.7522 ± 0.0209\n",
      "Precisão: 0.7789 ± 0.0189\n",
      "Recall: 0.8772 ± 0.0264\n",
      "F1-Score: 0.8248 ± 0.0147\n",
      "{'Acurácia': array([0.76785714, 0.79591837, 0.75255102, 0.75255102, 0.7627551 ,\n",
      "       0.72959184, 0.74744898, 0.72193878, 0.76214834, 0.72890026]), 'Precisão': array([0.7972028 , 0.79672131, 0.78082192, 0.79078014, 0.79577465,\n",
      "       0.74919614, 0.79487179, 0.74592834, 0.77377049, 0.76369863]), 'Recall': array([0.87356322, 0.93103448, 0.87356322, 0.85440613, 0.86590038,\n",
      "       0.89272031, 0.83461538, 0.88076923, 0.90769231, 0.85769231]), 'F1-Score': array([0.83363803, 0.85865724, 0.82459313, 0.8213628 , 0.8293578 ,\n",
      "       0.81468531, 0.81425891, 0.80776014, 0.83539823, 0.80797101])}\n"
     ]
    }
   ],
   "source": [
    "from sklearn.linear_model import LogisticRegression\n",
    "\n",
    "# Criar o modelo\n",
    "modelo_log = LogisticRegression(random_state=42)\n",
    "\n",
    "# Avaliar o modelo\n",
    "print(\"Avaliação da Regressão Logística:\\n \")\n",
    "print(avaliar_modelo(modelo_log, X_train_scaled, y_train))"
   ]
  },
  {
   "cell_type": "markdown",
   "metadata": {
    "id": "_D4JJwQcJBz4"
   },
   "source": [
    "---\n",
    "### **4.3 - Árvores de Decisão**\n",
    "Treinamos um **modelo de Árvore de Decisão** com **validação cruzada estratificada (k=10)**.  \n",
    "Avaliamos os mesmos indicadores:\n",
    "- **Média e desvio padrão da acurácia**.\n",
    "- **Média e desvio padrão da precisão**.\n",
    "- **Média e desvio padrão do recall**.\n",
    "- **Média e desvio padrão do F1-score**.\n",
    "---"
   ]
  },
  {
   "cell_type": "code",
   "execution_count": 12,
   "metadata": {
    "colab": {
     "base_uri": "https://localhost:8080/",
     "height": 0
    },
    "id": "Epu_DAZKJBKo",
    "outputId": "9cf139a5-6260-4ae8-ccbf-8447d1e240f7"
   },
   "outputs": [
    {
     "name": "stdout",
     "output_type": "stream",
     "text": [
      "Avaliação da Árvore de Decisão:\n",
      " \n",
      "Acurácia: 0.7854 ± 0.0237\n",
      "Precisão: 0.8392 ± 0.0230\n",
      "Recall: 0.8385 ± 0.0186\n",
      "F1-Score: 0.8387 ± 0.0172\n",
      "{'Acurácia': array([0.73979592, 0.80867347, 0.78061224, 0.81632653, 0.79591837,\n",
      "       0.78571429, 0.77295918, 0.76530612, 0.81841432, 0.76982097]), 'Precisão': array([0.80228137, 0.86046512, 0.83269962, 0.87351779, 0.86639676,\n",
      "       0.83396226, 0.83529412, 0.82061069, 0.85660377, 0.81021898]), 'Recall': array([0.80842912, 0.85057471, 0.83908046, 0.8467433 , 0.81992337,\n",
      "       0.8467433 , 0.81923077, 0.82692308, 0.87307692, 0.85384615]), 'F1-Score': array([0.80534351, 0.85549133, 0.83587786, 0.85992218, 0.84251969,\n",
      "       0.84030418, 0.82718447, 0.82375479, 0.8647619 , 0.83146067])}\n"
     ]
    }
   ],
   "source": [
    "from sklearn.tree import DecisionTreeClassifier\n",
    "\n",
    "# Criar o modelo\n",
    "modelo_tree = DecisionTreeClassifier(random_state=42)\n",
    "\n",
    "# Avaliar o modelo\n",
    "print(\"Avaliação da Árvore de Decisão:\\n \")\n",
    "print(avaliar_modelo(modelo_tree, X_train, y_train))  # Sem padronização para árvore\n"
   ]
  },
  {
   "cell_type": "markdown",
   "metadata": {
    "id": "-rfnKVRYJvVo"
   },
   "source": [
    "---\n",
    "### **4.4 - Suporte a Vetores (SVM)**\n",
    "Treinamos um **modelo de SVM (Support Vector Machine)** com **validação cruzada estratificada (k=10)**.  \n",
    "Avaliamos os seguintes indicadores:\n",
    "- **Média e desvio padrão da acurácia**.\n",
    "- **Média e desvio padrão da precisão**.\n",
    "- **Média e desvio padrão do recall**.\n",
    "- **Média e desvio padrão do F1-score**.\n",
    "\n",
    "---"
   ]
  },
  {
   "cell_type": "code",
   "execution_count": 13,
   "metadata": {
    "colab": {
     "base_uri": "https://localhost:8080/",
     "height": 0
    },
    "id": "heX1CYN7J46_",
    "outputId": "e665ee12-bdd8-4c74-d46e-15917ab83646"
   },
   "outputs": [
    {
     "name": "stdout",
     "output_type": "stream",
     "text": [
      "Avaliação do SVM:\n",
      "\n",
      "Acurácia: 0.7836 ± 0.0197\n",
      "Precisão: 0.8154 ± 0.0183\n",
      "Recall: 0.8726 ± 0.0186\n",
      "F1-Score: 0.8429 ± 0.0138\n",
      "{'Acurácia': array([0.76785714, 0.81122449, 0.82142857, 0.78316327, 0.7755102 ,\n",
      "       0.74744898, 0.78826531, 0.77806122, 0.7826087 , 0.78005115]), 'Precisão': array([0.8125    , 0.82578397, 0.84727273, 0.81654676, 0.82156134,\n",
      "       0.77364865, 0.83146067, 0.80565371, 0.81362007, 0.80633803]), 'Recall': array([0.8467433 , 0.90804598, 0.89272031, 0.8697318 , 0.8467433 ,\n",
      "       0.87739464, 0.85384615, 0.87692308, 0.87307692, 0.88076923]), 'F1-Score': array([0.82926829, 0.8649635 , 0.86940299, 0.84230056, 0.83396226,\n",
      "       0.82226212, 0.84250474, 0.83977901, 0.84230056, 0.84191176])}\n"
     ]
    }
   ],
   "source": [
    "from sklearn.svm import SVC\n",
    "\n",
    "# Criar o modelo\n",
    "modelo_svm = SVC(random_state=42)\n",
    "\n",
    "# Avaliar o modelo\n",
    "print(\"Avaliação do SVM:\\n\")\n",
    "print(avaliar_modelo(modelo_svm, X_train_scaled, y_train))\n"
   ]
  },
  {
   "cell_type": "markdown",
   "metadata": {
    "id": "KQT3eNMUKbFZ"
   },
   "source": [
    "---\n",
    "## **Etapa 5 - Escolha do Melhor Modelo**\n",
    "\n",
    "- Comparação dos **modelos anteriores**.\n",
    "- **Plot da curva ROC média** para cada modelo.\n",
    "- Justificativa da escolha do **modelo final para produção**.\n",
    "\n",
    "---"
   ]
  },
  {
   "cell_type": "code",
   "execution_count": 14,
   "metadata": {
    "colab": {
     "base_uri": "https://localhost:8080/",
     "height": 0
    },
    "id": "drVSYAm7K6vC",
    "outputId": "fc9c2de5-8237-4b62-fa6c-1dc8503557a8"
   },
   "outputs": [
    {
     "name": "stdout",
     "output_type": "stream",
     "text": [
      "AUC Regressão Logística: 0.7912\n",
      "AUC Árvore de Decisão: 0.7517\n",
      "AUC SVM: 0.8288\n"
     ]
    }
   ],
   "source": [
    "from sklearn.linear_model import LogisticRegression\n",
    "from sklearn.tree import DecisionTreeClassifier\n",
    "from sklearn.svm import SVC\n",
    "from sklearn.metrics import roc_curve, auc\n",
    "import numpy as np\n",
    "import matplotlib.pyplot as plt\n",
    "\n",
    "# Criar os modelos\n",
    "modelo_log = LogisticRegression(random_state=42)\n",
    "modelo_tree = DecisionTreeClassifier(random_state=42)\n",
    "modelo_svm = SVC(probability=True, random_state=42)  # SVM precisa de probability=True para ROC\n",
    "\n",
    "# Treinar os modelos\n",
    "modelo_log.fit(X_train_scaled, y_train)\n",
    "modelo_tree.fit(X_train, y_train)  # Árvore de decisão não precisa de padronização\n",
    "modelo_svm.fit(X_train_scaled, y_train)\n",
    "\n",
    "# Calcular probabilidades preditas para a curva ROC\n",
    "y_scores_log = modelo_log.predict_proba(X_test_scaled)[:, 1]\n",
    "y_scores_tree = modelo_tree.predict_proba(X_test)[:, 1]\n",
    "y_scores_svm = modelo_svm.predict_proba(X_test_scaled)[:, 1]\n",
    "\n",
    "# Calcular a curva ROC\n",
    "fpr_log, tpr_log, _ = roc_curve(y_test, y_scores_log)\n",
    "fpr_tree, tpr_tree, _ = roc_curve(y_test, y_scores_tree)\n",
    "fpr_svm, tpr_svm, _ = roc_curve(y_test, y_scores_svm)\n",
    "\n",
    "# Calcular a área sob a curva (AUC)\n",
    "auc_log = auc(fpr_log, tpr_log)\n",
    "auc_tree = auc(fpr_tree, tpr_tree)\n",
    "auc_svm = auc(fpr_svm, tpr_svm)\n",
    "\n",
    "# Exibir os valores de AUC\n",
    "print(f\"AUC Regressão Logística: {auc_log:.4f}\")\n",
    "print(f\"AUC Árvore de Decisão: {auc_tree:.4f}\")\n",
    "print(f\"AUC SVM: {auc_svm:.4f}\")"
   ]
  },
  {
   "cell_type": "code",
   "execution_count": 15,
   "metadata": {
    "colab": {
     "base_uri": "https://localhost:8080/",
     "height": 564
    },
    "id": "Aki99J3SLROV",
    "outputId": "4ec5f857-5b33-4985-e193-0f47a0b1e6df"
   },
   "outputs": [
    {
     "data": {
      "image/png": "[encoded data removed]",
      "text/plain": [
       "<Figure size 800x600 with 1 Axes>"
      ]
     },
     "metadata": {},
     "output_type": "display_data"
    }
   ],
   "source": [
    "# Criar a figura da Curva ROC\n",
    "plt.figure(figsize=(8, 6))\n",
    "\n",
    "# Plot das curvas ROC\n",
    "plt.plot(fpr_log, tpr_log, label=f\"Regressão Logística (AUC = {auc_log:.2f})\")\n",
    "plt.plot(fpr_tree, tpr_tree, label=f\"Árvore de Decisão (AUC = {auc_tree:.2f})\")\n",
    "plt.plot(fpr_svm, tpr_svm, label=f\"SVM (AUC = {auc_svm:.2f})\")\n",
    "\n",
    "# Linha diagonal (random classifier)\n",
    "plt.plot([0, 1], [0, 1], 'k--', label=\"Random Classifier\")\n",
    "\n",
    "# Configurações do gráfico\n",
    "plt.xlabel(\"Taxa de Falsos Positivos (FPR)\")\n",
    "plt.ylabel(\"Taxa de Verdadeiros Positivos (TPR)\")\n",
    "plt.title(\"Curva ROC - Comparação dos Modelos\")\n",
    "plt.legend()\n",
    "plt.show()"
   ]
  },
  {
   "cell_type": "markdown",
   "metadata": {
    "id": "EMLjPZJYLkGA"
   },
   "source": [
    "## **Plot da Curva ROC para Comparação**\n",
    "\n",
    "### **Análise Comparativa dos Modelos - Curva ROC**\n",
    "\n",
    "### **Regressão Logística (AUC = 0.79)**\n",
    "- **Desempenho bom**, com uma **AUC de 0.79**, indicando uma boa separação entre classes.  \n",
    "- O modelo apresenta **bom equilíbrio entre precisão e recall**, mas **não é o melhor** da comparação.  \n",
    "- Pode ser mais adequado se for necessário um **modelo simples e interpretável**.  \n",
    "\n",
    "---\n",
    "\n",
    "### **Árvore de Decisão (AUC = 0.75)**\n",
    "- **Modelo mais simples e interpretável**, útil para entender **critérios de decisão**.  \n",
    "- **A menor AUC (0.75)** entre os modelos indica que pode estar **superajustado** aos dados de treino ou não generalizar bem.  \n",
    "- A curva ROC **não é tão suave**, sugerindo que pode ser **sensível a outliers** e variações nos dados.  \n",
    "\n",
    "---\n",
    "\n",
    "### **SVM - Máquinas de Vetores de Suporte (AUC = 0.83)**\n",
    "- **Melhor desempenho geral** com **AUC de 0.83**, indicando a melhor separação entre classes.  \n",
    "- O modelo **generaliza bem** e **tem uma curva ROC mais suave**, o que sugere melhor estabilidade.  \n",
    "- **Pode ser mais lento** para grandes volumes de dados devido ao **alto custo computacional**.  \n",
    "\n",
    "---"
   ]
  },
  {
   "cell_type": "markdown",
   "metadata": {
    "id": "bXpN_M8JNvI5"
   },
   "source": [
    "## **Conclusão: Melhor Modelo**\n",
    "- **SVM é a melhor escolha** para este problema, pois obteve a **maior AUC (0.83)**, sugerindo que tem **maior capacidade de distinguir os vinhos bons dos ruins**.  \n",
    "- No entanto, se o tempo de execução for um fator importante, a **Regressão Logística** pode ser uma alternativa viável.  \n",
    "\n",
    "\n",
    "---"
   ]
  },
  {
   "cell_type": "markdown",
   "metadata": {
    "id": "9P8FIecjOqDb"
   },
   "source": [
    "## **Etapa 6 - Inferência com Vinhos Tintos**\n",
    "\n",
    "- Aplicar **o modelo escolhido** para prever a qualidade dos **vinhos tintos**.\n",
    "- **Não treinar novamente!** Utilizar apenas os pesos do modelo treinado.\n",
    "- Determinar **quantos vinhos são bons ou ruins**.\n",
    "- Comparar o desempenho **entre vinhos brancos e tintos**.\n",
    "- Responder: **O modelo funciona da mesma forma para essa nova base?** Justificar."
   ]
  },
  {
   "cell_type": "code",
   "execution_count": 19,
   "metadata": {},
   "outputs": [
    {
     "name": "stdout",
     "output_type": "stream",
     "text": [
      "Vinhos tintos preparados para inferência!\n"
     ]
    }
   ],
   "source": [
    "# Definir o caminho correto do dataset\n",
    "wine_path = \"wine-quality-data-set-red-white-wine/wine-quality-white-and-red.csv\"\n",
    "\n",
    "# Carregar o dataset completo (tintos e brancos)\n",
    "df_wine = pd.read_csv(wine_path, sep=\",\")\n",
    "\n",
    "# Verificar se a coluna 'type' está presente\n",
    "if \"type\" in df_wine.columns:\n",
    "    # Filtrar apenas os vinhos tintos\n",
    "    df_red = df_wine[df_wine[\"type\"] == \"red\"].copy()\n",
    "    \n",
    "    # Remover colunas desnecessárias (incluindo 'opinion' caso exista)\n",
    "    df_red = df_red.drop(columns=[\"quality\", \"type\", \"opinion\"], errors=\"ignore\")\n",
    "    \n",
    "    # Garantir que as colunas de X_red estejam na mesma ordem de X_train\n",
    "    df_red = df_red[X.columns]  # Reordenando as colunas para garantir consistência\n",
    "\n",
    "    # Aplicar a mesma padronização usada nos vinhos brancos\n",
    "    X_red_scaled = scaler.transform(df_red)\n",
    "\n",
    "    print(\"Vinhos tintos preparados para inferência!\")\n",
    "else:\n",
    "    print(\"A coluna 'type' não foi encontrada no dataset!\")\n"
   ]
  },
  {
   "cell_type": "code",
   "execution_count": 20,
   "metadata": {
    "colab": {
     "base_uri": "https://localhost:8080/",
     "height": 0
    },
    "id": "C0Gz42LPA4Bo",
    "outputId": "1bb5913d-3f6b-4b2d-90c3-c87009bd4393"
   },
   "outputs": [
    {
     "name": "stdout",
     "output_type": "stream",
     "text": [
      " Classificação dos Vinhos Tintos:\n",
      "Vinhos Bons (opinion = 1): 130\n",
      "Vinhos Ruins (opinion = 0): 1469\n"
     ]
    }
   ],
   "source": [
    "# Fazer previsões usando o modelo já treinado\n",
    "y_pred_red = modelo_svm.predict(X_red_scaled)\n",
    "\n",
    "# Adicionar as previsões ao DataFrame\n",
    "df_red[\"predicted_opinion\"] = y_pred_red\n",
    "\n",
    "# Contar quantos vinhos foram classificados como bons (1) e ruins (0)\n",
    "wine_counts = df_red[\"predicted_opinion\"].value_counts()\n",
    "\n",
    "# Exibir os resultados\n",
    "print(\" Classificação dos Vinhos Tintos:\")\n",
    "print(f\"Vinhos Bons (opinion = 1): {wine_counts.get(1, 0)}\")\n",
    "print(f\"Vinhos Ruins (opinion = 0): {wine_counts.get(0, 0)}\")\n"
   ]
  },
  {
   "cell_type": "code",
   "execution_count": 21,
   "metadata": {
    "colab": {
     "base_uri": "https://localhost:8080/",
     "height": 545
    },
    "id": "kZNciuazBDdT",
    "outputId": "a542c0d3-f272-457e-9b97-a00b0f710d87"
   },
   "outputs": [
    {
     "data": {
      "image/png": "[encoded data removed]",
      "text/plain": [
       "<Figure size 800x600 with 1 Axes>"
      ]
     },
     "metadata": {},
     "output_type": "display_data"
    }
   ],
   "source": [
    "import matplotlib.pyplot as plt\n",
    "\n",
    "# Contagem de vinhos brancos bons e ruins\n",
    "white_counts = df_white[\"opinion\"].value_counts()\n",
    "\n",
    "# Criar gráfico comparativo\n",
    "labels = [\"Vinhos Ruins (opinion=0)\", \"Vinhos Bons (opinion=1)\"]\n",
    "white_values = [white_counts.get(0, 0), white_counts.get(1, 0)]\n",
    "red_values = [wine_counts.get(0, 0), wine_counts.get(1, 0)]\n",
    "\n",
    "x = range(len(labels))\n",
    "\n",
    "plt.figure(figsize=(8,6))\n",
    "plt.bar(x, white_values, width=0.4, label=\"Vinhos Brancos\", alpha=0.7)\n",
    "plt.bar([i + 0.4 for i in x], red_values, width=0.4, label=\"Vinhos Tintos\", alpha=0.7)\n",
    "\n",
    "plt.xticks([i + 0.2 for i in x], labels)\n",
    "plt.ylabel(\"Número de Vinhos\")\n",
    "plt.title(\"Comparação entre Vinhos Brancos e Tintos - Classificação do Modelo\")\n",
    "plt.legend()\n",
    "plt.show()"
   ]
  },
  {
   "cell_type": "markdown",
   "metadata": {
    "id": "wqEqisxVBVNW"
   },
   "source": [
    "---\n",
    "## **Etapa 6 - Inferência com Vinhos Tintos**\n",
    "\n",
    "### **Resumo dos Resultados**\n",
    "- **Vinhos Brancos**:\n",
    "  - Vinhos Ruins (opinion = 0): **~1.600**\n",
    "  - Vinhos Bons (opinion = 1): **~3.200**\n",
    "  \n",
    "- **Vinhos Tintos**:\n",
    "  - Vinhos Ruins (opinion = 0): **1.469**\n",
    "  - Vinhos Bons (opinion = 1): **130**\n",
    "\n",
    "---\n",
    "\n",
    "## **Minha Análise dos Resultados**\n",
    "Ao aplicar o modelo treinado com vinhos brancos para classificar os vinhos tintos, observei que **a grande maioria dos vinhos tintos foi classificada como ruim**. Isso contrasta com os vinhos brancos, onde houve uma proporção significativamente maior de vinhos bons.  \n",
    "\n",
    "Essa diferença sugere que o modelo **não generalizou bem para os vinhos tintos**. Como esses dois tipos de vinho podem ter **características químicas distintas**, é possível que o modelo tenha aprendido padrões específicos dos vinhos brancos, o que pode ter impactado seu desempenho na nova base.\n",
    "\n",
    "---\n",
    "\n",
    "## **O modelo funciona da mesma forma para os vinhos tintos?**\n",
    "**Não exatamente**. Embora o modelo tenha sido capaz de fazer previsões para os vinhos tintos, a distribuição das classificações sugere que ele pode **estar enviesado** para os padrões dos vinhos brancos.  \n",
    "\n",
    "Isso indica que **o modelo treinado apenas com vinhos brancos não é a melhor opção para classificar vinhos tintos**, pois ele pode não estar considerando adequadamente as diferenças entre os dois tipos de vinho.  \n",
    "\n",
    "---\n",
    "\n",
    "## **Sugestão de melhorias**\n",
    "Para melhorar o desempenho do modelo e torná-lo mais confiável para ambos os tipos de vinho, sugiro algumas abordagens:  \n",
    "\n",
    "- **Treinar um novo modelo utilizando ambas as bases** (vinhos brancos e tintos) para garantir melhor generalização.  \n",
    "- **Analisar as diferenças químicas entre os vinhos tintos e brancos** para entender melhor como essas variáveis influenciam na classificação.  \n",
    "- **Testar novos algoritmos ou ajustar os hiperparâmetros** do modelo para melhorar sua capacidade de generalização.  \n",
    "\n",
    "---\n",
    "\n",
    "## **Conclusão**\n",
    "Os resultados mostram que o modelo treinado com vinhos brancos **não conseguiu generalizar bem para os vinhos tintos**, pois classificou uma quantidade muito pequena de vinhos tintos como bons.  \n",
    "\n",
    "Para obter um modelo mais eficiente e preciso, acredito que **o ideal seria treinar o modelo com ambas as bases de vinho**. Dessa forma, ele poderia aprender as características de cada tipo e melhorar suas previsões.  \n",
    "\n",
    "**Projeto finalizado!**"
   ]
  },
  {
   "cell_type": "markdown",
   "metadata": {
    "id": "5mMTQhGZQBJO"
   },
   "source": [
    "---\n",
    "\n",
    "## **Etapa 7 - Disponibilização do Código**\n",
    "\n",
    "- Subir todos os códigos no **GitHub** e fornecer o link do repositório.\n",
    "- O repositório deve conter o código referente às **questões 2-6**."
   ]
  },
  {
   "cell_type": "markdown",
   "metadata": {
    "id": "PCMRul_iQJbL"
   },
   "source": [
    "## **Entrega Final**\n",
    "\n",
    "Após finalizar todas as etapas:\n",
    "1. **Salvar o trabalho em PDF**.\n",
    "2. **Postar no Moodle** com o seguinte formato de nome:\n",
    "   ```bash\n",
    "   nomedoaluno_nomedadisciplina_pd.PDF"
   ]
  }
 ],
 "metadata": {
  "colab": {
   "provenance": []
  },
  "kernelspec": {
   "display_name": "Python 3 (ipykernel)",
   "language": "python",
   "name": "python3"
  },
  "language_info": {
   "codemirror_mode": {
    "name": "ipython",
    "version": 3
   },
   "file_extension": ".py",
   "mimetype": "text/x-python",
   "name": "python",
   "nbconvert_exporter": "python",
   "pygments_lexer": "ipython3",
   "version": "3.10.9"
  }
 },
 "nbformat": 4,
 "nbformat_minor": 4
}
