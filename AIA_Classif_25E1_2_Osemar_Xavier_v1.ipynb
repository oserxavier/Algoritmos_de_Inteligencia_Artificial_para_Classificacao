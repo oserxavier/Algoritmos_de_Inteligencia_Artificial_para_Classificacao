{
  "nbformat": 4,
  "nbformat_minor": 0,
  "metadata": {
    "colab": {
      "provenance": []
    },
    "kernelspec": {
      "name": "python3",
      "display_name": "Python 3"
    },
    "language_info": {
      "name": "python"
    }
  },
  "cells": [
    {
      "cell_type": "markdown",
      "source": [
        "<div style=\"display: flex; justify-content: center; align-items: center; height: 100vh;\">\n",
        "    <img src=\"https://curso.infnet.com.br/c/wp-content/uploads/sites/5/2022/12/Infnet-Logo.png\" height=\"300\" width=\"300\">\n",
        "</div>\n",
        "\n",
        "<p><b><font size = 5 face = 'verdana'> Algoritmos de Inteligência Artificial para classificação [25E1_2] - PROJETO FINAL</font></b></p>\n",
        "<p><font size = 3 face = 'verdana'>Trabalho apresentado à conclusão do curso de Algoritmos de Inteligência Artificial para classificação [25E1_2] do MIT em Inteligência Artificial, Machine Learning e Deep Learning, Instituto INFNET, como requisito parcial de avaliação. </font></b></p>\n",
        "<p><font size = 3 face = 'verdana'><b>PROFESSOR:</b> Ícaro Augusto Maccari Zelioli<br>\n",
        "<b>ALUNO:</b> Osemar da Silva Xavier<br>\n",
        "<b>E-MAIL:</b> osemar.xavier@al.infnet.edu.br<br>\n",
        "<b>GITHUB:</b>\n",
        "<a href=\"https://www.kaggle.com/datasets/rohan0301/unsupervised-learning-on-country-data\">https://www.kaggle.com/datasets/rohan0301/unsupervised-learning-on-country-data</a>\n",
        "\n",
        "</font></p>\n",
        "\n",
        "<p><font size = 3 face = 'verdana'>\n",
        "<hr></hr>\n"
      ],
      "metadata": {
        "id": "eLZGmHciwnMi"
      }
    },
    {
      "cell_type": "markdown",
      "source": [
        "# **Projeto de Machine Learning - Classificação de Vinhos**\n",
        "\n",
        "## **Introdução**\n",
        "\n",
        "Nesta disciplina, aplicamos nossos conhecimentos em **algoritmos supervisionados**, uma das principais abordagens do **aprendizado de máquina** utilizada no dia a dia de um cientista de dados.\n",
        "\n",
        "## **Objetivo**\n",
        "- Realizar a **classificação de vinhos verdes portugueses** utilizando diferentes modelos de **Machine Learning**.\n",
        "- Comparar a **eficiência dos modelos** e selecionar o mais adequado.\n",
        "- Aplicar o modelo **escolhido** para prever a qualidade dos vinhos tintos.\n",
        "\n",
        "\n",
        "\n",
        "\n",
        "\n",
        "---"
      ],
      "metadata": {
        "id": "NWwAzcQDaWSO"
      }
    },
    {
      "cell_type": "markdown",
      "source": [
        "## **Etapa 1 - Módulo Kaggle**\n",
        "\n",
        "1. Antes de iniciar o trabalho, é necessário completar o curso **\"Intro to Machine Learning\"** do Kaggle.  \n",
        "2. A conclusão deve ser comprovada com um **print contendo a data e identificação do aluno**.\n",
        "\n",
        "Link do certificado: [Kaggle - Intro to Machine Learning](https://www.kaggle.com/learn/certification/oserxavier/intro-to-machine-learning)\n",
        "\n",
        "<div style=\"display: flex; justify-content: center; align-items: center; height: 100vh;\">\n",
        "    <img src=\"https://raw.githubusercontent.com/oserxavier/Machine-Learning/refs/heads/main/figures/kaggle.png\" height=\"550\" width=\"1400\">\n",
        "</div>"
      ],
      "metadata": {
        "id": "VTCkp4JSZk1Z"
      }
    },
    {
      "cell_type": "markdown",
      "source": [
        "---\n",
        "## **Etapa 2 - Base de Dados**\n",
        "\n",
        "### **Download da Base**\n",
        "Utilizaremos a **base de dados de vinhos verdes portugueses** disponível no Kaggle e mencionada no artigo:\n",
        "\n",
        "> P. Cortez, A. Cerdeira, F. Almeida, T. Matos and J. Reis.  \n",
        "> *Modeling wine preferences by data mining from physicochemical properties.*  \n",
        "> In **Decision Support Systems, Elsevier, 47(4):547-553, 2009**.\n",
        "\n",
        "Link do conjunto de dados: [Wine Quality Dataset - Kaggle](https://www.kaggle.com/datasets/ruthgn/wine-quality-data-set-red-white-wine)\n",
        "\n",
        "### **Transformação dos Dados**\n",
        "A base contém a variável `quality` com notas de **0 a 10** representando a qualidade do vinho.  \n",
        "Criamos uma **nova variável categórica `opinion`**, definida como:\n",
        "\n",
        "- `opinion = 0` → quando `quality ≤ 5` (vinho ruim)\n",
        "- `opinion = 1` → quando `quality > 5` (vinho bom)\n",
        "\n",
        "Após essa transformação, a variável `quality` será **removida** da análise.\n",
        "\n",
        "---"
      ],
      "metadata": {
        "id": "D5W6EAdpcWEZ"
      }
    },
    {
      "cell_type": "markdown",
      "source": [
        "Fiz a instalação do `opendatasets` que é uma biblioteca Python que facilita o download de datasets públicos de plataformas como Kaggle, sem a necessidade de baixar manualmente pelo navegador.\n",
        "<hr>"
      ],
      "metadata": {
        "id": "EEdO_nZN9Ilc"
      }
    },
    {
      "cell_type": "code",
      "source": [
        "# Instalando a API do Kaggle para baixar o dataset\n",
        "!pip install opendatasets"
      ],
      "metadata": {
        "colab": {
          "base_uri": "https://localhost:8080/"
        },
        "id": "yMaonaaR9Kzv",
        "outputId": "17a35302-777f-406a-eca9-164e8c67987b"
      },
      "execution_count": 1,
      "outputs": [
        {
          "output_type": "stream",
          "name": "stdout",
          "text": [
            "Collecting opendatasets\n",
            "  Downloading opendatasets-0.1.22-py3-none-any.whl.metadata (9.2 kB)\n",
            "Requirement already satisfied: tqdm in /usr/local/lib/python3.11/dist-packages (from opendatasets) (4.67.1)\n",
            "Requirement already satisfied: kaggle in /usr/local/lib/python3.11/dist-packages (from opendatasets) (1.6.17)\n",
            "Requirement already satisfied: click in /usr/local/lib/python3.11/dist-packages (from opendatasets) (8.1.8)\n",
            "Requirement already satisfied: six>=1.10 in /usr/local/lib/python3.11/dist-packages (from kaggle->opendatasets) (1.17.0)\n",
            "Requirement already satisfied: certifi>=2023.7.22 in /usr/local/lib/python3.11/dist-packages (from kaggle->opendatasets) (2025.1.31)\n",
            "Requirement already satisfied: python-dateutil in /usr/local/lib/python3.11/dist-packages (from kaggle->opendatasets) (2.8.2)\n",
            "Requirement already satisfied: requests in /usr/local/lib/python3.11/dist-packages (from kaggle->opendatasets) (2.32.3)\n",
            "Requirement already satisfied: python-slugify in /usr/local/lib/python3.11/dist-packages (from kaggle->opendatasets) (8.0.4)\n",
            "Requirement already satisfied: urllib3 in /usr/local/lib/python3.11/dist-packages (from kaggle->opendatasets) (2.3.0)\n",
            "Requirement already satisfied: bleach in /usr/local/lib/python3.11/dist-packages (from kaggle->opendatasets) (6.2.0)\n",
            "Requirement already satisfied: webencodings in /usr/local/lib/python3.11/dist-packages (from bleach->kaggle->opendatasets) (0.5.1)\n",
            "Requirement already satisfied: text-unidecode>=1.3 in /usr/local/lib/python3.11/dist-packages (from python-slugify->kaggle->opendatasets) (1.3)\n",
            "Requirement already satisfied: charset-normalizer<4,>=2 in /usr/local/lib/python3.11/dist-packages (from requests->kaggle->opendatasets) (3.4.1)\n",
            "Requirement already satisfied: idna<4,>=2.5 in /usr/local/lib/python3.11/dist-packages (from requests->kaggle->opendatasets) (3.10)\n",
            "Downloading opendatasets-0.1.22-py3-none-any.whl (15 kB)\n",
            "Installing collected packages: opendatasets\n",
            "Successfully installed opendatasets-0.1.22\n"
          ]
        }
      ]
    },
    {
      "cell_type": "code",
      "source": [
        "import opendatasets as od\n",
        "import os\n",
        "import pandas as pd\n",
        "\n",
        "# Baixar os dados do Kaggle (certifique-se de ter um API Key do Kaggle configurado)\n",
        "dataset_url = \"https://www.kaggle.com/datasets/ruthgn/wine-quality-data-set-red-white-wine\"\n",
        "od.download(dataset_url)\n"
      ],
      "metadata": {
        "colab": {
          "base_uri": "https://localhost:8080/"
        },
        "id": "EUButndncpaZ",
        "outputId": "fc533a48-51a5-4d57-bcaf-d96625ccad5b"
      },
      "execution_count": 2,
      "outputs": [
        {
          "output_type": "stream",
          "name": "stdout",
          "text": [
            "Please provide your Kaggle credentials to download this dataset. Learn more: http://bit.ly/kaggle-creds\n",
            "Your Kaggle username: oserxavier\n",
            "Your Kaggle Key: ··········\n",
            "Dataset URL: https://www.kaggle.com/datasets/ruthgn/wine-quality-data-set-red-white-wine\n",
            "Downloading wine-quality-data-set-red-white-wine.zip to ./wine-quality-data-set-red-white-wine\n"
          ]
        },
        {
          "output_type": "stream",
          "name": "stderr",
          "text": [
            "100%|██████████| 98.0k/98.0k [00:00<00:00, 43.0MB/s]"
          ]
        },
        {
          "output_type": "stream",
          "name": "stdout",
          "text": [
            "\n"
          ]
        },
        {
          "output_type": "stream",
          "name": "stderr",
          "text": [
            "\n"
          ]
        }
      ]
    },
    {
      "cell_type": "code",
      "source": [
        "# Definir o caminho correto do arquivo (ajustado para o nome real)\n",
        "wine_path = \"wine-quality-data-set-red-white-wine/wine-quality-white-and-red.csv\"\n",
        "\n",
        "# Carregar os dados completos (tintos e brancos)\n",
        "df_wine = pd.read_csv(wine_path, sep=\",\")\n",
        "\n",
        "# Verificar se há uma coluna chamada 'type' para distinguir os vinhos\n",
        "if \"type\" in df_wine.columns:\n",
        "    # Filtrar apenas os vinhos brancos\n",
        "    df_white = df_wine[df_wine[\"type\"] == \"white\"].copy()\n",
        "\n",
        "    # Criar a variável 'opinion'\n",
        "    df_white[\"opinion\"] = (df_white[\"quality\"] > 5).astype(int)\n",
        "\n",
        "    # Remover a variável 'quality'\n",
        "    df_white.drop(columns=[\"quality\"], inplace=True)\n",
        "\n",
        "    # Exibir as 5 primeiras linhas para confirmação\n",
        "    print(\"\\n Dados dos vinhos brancos filtrados com sucesso!\")\n",
        "    df_white.head()\n",
        "else:\n",
        "    print(\"A coluna 'type' não foi encontrada! Verifique a estrutura do dataset.\")\n"
      ],
      "metadata": {
        "colab": {
          "base_uri": "https://localhost:8080/"
        },
        "id": "iwnKcrVehVEH",
        "outputId": "047989b7-bd63-4d0d-faf0-90353be3991f"
      },
      "execution_count": 3,
      "outputs": [
        {
          "output_type": "stream",
          "name": "stdout",
          "text": [
            "\n",
            " Dados dos vinhos brancos filtrados com sucesso!\n"
          ]
        }
      ]
    },
    {
      "cell_type": "code",
      "source": [
        "# Verificando as 5 primeiras linhas do dataset\n",
        "df_white.head()"
      ],
      "metadata": {
        "colab": {
          "base_uri": "https://localhost:8080/",
          "height": 206
        },
        "id": "hw0_b-llgdPq",
        "outputId": "9b1064b8-e0ed-48be-ec03-add7df22e7c8"
      },
      "execution_count": 4,
      "outputs": [
        {
          "output_type": "execute_result",
          "data": {
            "text/plain": [
              "    type  fixed acidity  volatile acidity  citric acid  residual sugar  \\\n",
              "0  white            7.0              0.27         0.36            20.7   \n",
              "1  white            6.3              0.30         0.34             1.6   \n",
              "2  white            8.1              0.28         0.40             6.9   \n",
              "3  white            7.2              0.23         0.32             8.5   \n",
              "4  white            7.2              0.23         0.32             8.5   \n",
              "\n",
              "   chlorides  free sulfur dioxide  total sulfur dioxide  density    pH  \\\n",
              "0      0.045                 45.0                 170.0   1.0010  3.00   \n",
              "1      0.049                 14.0                 132.0   0.9940  3.30   \n",
              "2      0.050                 30.0                  97.0   0.9951  3.26   \n",
              "3      0.058                 47.0                 186.0   0.9956  3.19   \n",
              "4      0.058                 47.0                 186.0   0.9956  3.19   \n",
              "\n",
              "   sulphates  alcohol  opinion  \n",
              "0       0.45      8.8        1  \n",
              "1       0.49      9.5        1  \n",
              "2       0.44     10.1        1  \n",
              "3       0.40      9.9        1  \n",
              "4       0.40      9.9        1  "
            ],
            "text/html": [
              "\n",
              "  <div id=\"df-14fd4221-078e-46a6-bfc1-5a2d3385a4a5\" class=\"colab-df-container\">\n",
              "    <div>\n",
              "<style scoped>\n",
              "    .dataframe tbody tr th:only-of-type {\n",
              "        vertical-align: middle;\n",
              "    }\n",
              "\n",
              "    .dataframe tbody tr th {\n",
              "        vertical-align: top;\n",
              "    }\n",
              "\n",
              "    .dataframe thead th {\n",
              "        text-align: right;\n",
              "    }\n",
              "</style>\n",
              "<table border=\"1\" class=\"dataframe\">\n",
              "  <thead>\n",
              "    <tr style=\"text-align: right;\">\n",
              "      <th></th>\n",
              "      <th>type</th>\n",
              "      <th>fixed acidity</th>\n",
              "      <th>volatile acidity</th>\n",
              "      <th>citric acid</th>\n",
              "      <th>residual sugar</th>\n",
              "      <th>chlorides</th>\n",
              "      <th>free sulfur dioxide</th>\n",
              "      <th>total sulfur dioxide</th>\n",
              "      <th>density</th>\n",
              "      <th>pH</th>\n",
              "      <th>sulphates</th>\n",
              "      <th>alcohol</th>\n",
              "      <th>opinion</th>\n",
              "    </tr>\n",
              "  </thead>\n",
              "  <tbody>\n",
              "    <tr>\n",
              "      <th>0</th>\n",
              "      <td>white</td>\n",
              "      <td>7.0</td>\n",
              "      <td>0.27</td>\n",
              "      <td>0.36</td>\n",
              "      <td>20.7</td>\n",
              "      <td>0.045</td>\n",
              "      <td>45.0</td>\n",
              "      <td>170.0</td>\n",
              "      <td>1.0010</td>\n",
              "      <td>3.00</td>\n",
              "      <td>0.45</td>\n",
              "      <td>8.8</td>\n",
              "      <td>1</td>\n",
              "    </tr>\n",
              "    <tr>\n",
              "      <th>1</th>\n",
              "      <td>white</td>\n",
              "      <td>6.3</td>\n",
              "      <td>0.30</td>\n",
              "      <td>0.34</td>\n",
              "      <td>1.6</td>\n",
              "      <td>0.049</td>\n",
              "      <td>14.0</td>\n",
              "      <td>132.0</td>\n",
              "      <td>0.9940</td>\n",
              "      <td>3.30</td>\n",
              "      <td>0.49</td>\n",
              "      <td>9.5</td>\n",
              "      <td>1</td>\n",
              "    </tr>\n",
              "    <tr>\n",
              "      <th>2</th>\n",
              "      <td>white</td>\n",
              "      <td>8.1</td>\n",
              "      <td>0.28</td>\n",
              "      <td>0.40</td>\n",
              "      <td>6.9</td>\n",
              "      <td>0.050</td>\n",
              "      <td>30.0</td>\n",
              "      <td>97.0</td>\n",
              "      <td>0.9951</td>\n",
              "      <td>3.26</td>\n",
              "      <td>0.44</td>\n",
              "      <td>10.1</td>\n",
              "      <td>1</td>\n",
              "    </tr>\n",
              "    <tr>\n",
              "      <th>3</th>\n",
              "      <td>white</td>\n",
              "      <td>7.2</td>\n",
              "      <td>0.23</td>\n",
              "      <td>0.32</td>\n",
              "      <td>8.5</td>\n",
              "      <td>0.058</td>\n",
              "      <td>47.0</td>\n",
              "      <td>186.0</td>\n",
              "      <td>0.9956</td>\n",
              "      <td>3.19</td>\n",
              "      <td>0.40</td>\n",
              "      <td>9.9</td>\n",
              "      <td>1</td>\n",
              "    </tr>\n",
              "    <tr>\n",
              "      <th>4</th>\n",
              "      <td>white</td>\n",
              "      <td>7.2</td>\n",
              "      <td>0.23</td>\n",
              "      <td>0.32</td>\n",
              "      <td>8.5</td>\n",
              "      <td>0.058</td>\n",
              "      <td>47.0</td>\n",
              "      <td>186.0</td>\n",
              "      <td>0.9956</td>\n",
              "      <td>3.19</td>\n",
              "      <td>0.40</td>\n",
              "      <td>9.9</td>\n",
              "      <td>1</td>\n",
              "    </tr>\n",
              "  </tbody>\n",
              "</table>\n",
              "</div>\n",
              "    <div class=\"colab-df-buttons\">\n",
              "\n",
              "  <div class=\"colab-df-container\">\n",
              "    <button class=\"colab-df-convert\" onclick=\"convertToInteractive('df-14fd4221-078e-46a6-bfc1-5a2d3385a4a5')\"\n",
              "            title=\"Convert this dataframe to an interactive table.\"\n",
              "            style=\"display:none;\">\n",
              "\n",
              "  <svg xmlns=\"http://www.w3.org/2000/svg\" height=\"24px\" viewBox=\"0 -960 960 960\">\n",
              "    <path d=\"M120-120v-720h720v720H120Zm60-500h600v-160H180v160Zm220 220h160v-160H400v160Zm0 220h160v-160H400v160ZM180-400h160v-160H180v160Zm440 0h160v-160H620v160ZM180-180h160v-160H180v160Zm440 0h160v-160H620v160Z\"/>\n",
              "  </svg>\n",
              "    </button>\n",
              "\n",
              "  <style>\n",
              "    .colab-df-container {\n",
              "      display:flex;\n",
              "      gap: 12px;\n",
              "    }\n",
              "\n",
              "    .colab-df-convert {\n",
              "      background-color: #E8F0FE;\n",
              "      border: none;\n",
              "      border-radius: 50%;\n",
              "      cursor: pointer;\n",
              "      display: none;\n",
              "      fill: #1967D2;\n",
              "      height: 32px;\n",
              "      padding: 0 0 0 0;\n",
              "      width: 32px;\n",
              "    }\n",
              "\n",
              "    .colab-df-convert:hover {\n",
              "      background-color: #E2EBFA;\n",
              "      box-shadow: 0px 1px 2px rgba(60, 64, 67, 0.3), 0px 1px 3px 1px rgba(60, 64, 67, 0.15);\n",
              "      fill: #174EA6;\n",
              "    }\n",
              "\n",
              "    .colab-df-buttons div {\n",
              "      margin-bottom: 4px;\n",
              "    }\n",
              "\n",
              "    [theme=dark] .colab-df-convert {\n",
              "      background-color: #3B4455;\n",
              "      fill: #D2E3FC;\n",
              "    }\n",
              "\n",
              "    [theme=dark] .colab-df-convert:hover {\n",
              "      background-color: #434B5C;\n",
              "      box-shadow: 0px 1px 3px 1px rgba(0, 0, 0, 0.15);\n",
              "      filter: drop-shadow(0px 1px 2px rgba(0, 0, 0, 0.3));\n",
              "      fill: #FFFFFF;\n",
              "    }\n",
              "  </style>\n",
              "\n",
              "    <script>\n",
              "      const buttonEl =\n",
              "        document.querySelector('#df-14fd4221-078e-46a6-bfc1-5a2d3385a4a5 button.colab-df-convert');\n",
              "      buttonEl.style.display =\n",
              "        google.colab.kernel.accessAllowed ? 'block' : 'none';\n",
              "\n",
              "      async function convertToInteractive(key) {\n",
              "        const element = document.querySelector('#df-14fd4221-078e-46a6-bfc1-5a2d3385a4a5');\n",
              "        const dataTable =\n",
              "          await google.colab.kernel.invokeFunction('convertToInteractive',\n",
              "                                                    [key], {});\n",
              "        if (!dataTable) return;\n",
              "\n",
              "        const docLinkHtml = 'Like what you see? Visit the ' +\n",
              "          '<a target=\"_blank\" href=https://colab.research.google.com/notebooks/data_table.ipynb>data table notebook</a>'\n",
              "          + ' to learn more about interactive tables.';\n",
              "        element.innerHTML = '';\n",
              "        dataTable['output_type'] = 'display_data';\n",
              "        await google.colab.output.renderOutput(dataTable, element);\n",
              "        const docLink = document.createElement('div');\n",
              "        docLink.innerHTML = docLinkHtml;\n",
              "        element.appendChild(docLink);\n",
              "      }\n",
              "    </script>\n",
              "  </div>\n",
              "\n",
              "\n",
              "<div id=\"df-cad71c55-e950-4c52-a839-f4cbeb1a85a6\">\n",
              "  <button class=\"colab-df-quickchart\" onclick=\"quickchart('df-cad71c55-e950-4c52-a839-f4cbeb1a85a6')\"\n",
              "            title=\"Suggest charts\"\n",
              "            style=\"display:none;\">\n",
              "\n",
              "<svg xmlns=\"http://www.w3.org/2000/svg\" height=\"24px\"viewBox=\"0 0 24 24\"\n",
              "     width=\"24px\">\n",
              "    <g>\n",
              "        <path d=\"M19 3H5c-1.1 0-2 .9-2 2v14c0 1.1.9 2 2 2h14c1.1 0 2-.9 2-2V5c0-1.1-.9-2-2-2zM9 17H7v-7h2v7zm4 0h-2V7h2v10zm4 0h-2v-4h2v4z\"/>\n",
              "    </g>\n",
              "</svg>\n",
              "  </button>\n",
              "\n",
              "<style>\n",
              "  .colab-df-quickchart {\n",
              "      --bg-color: #E8F0FE;\n",
              "      --fill-color: #1967D2;\n",
              "      --hover-bg-color: #E2EBFA;\n",
              "      --hover-fill-color: #174EA6;\n",
              "      --disabled-fill-color: #AAA;\n",
              "      --disabled-bg-color: #DDD;\n",
              "  }\n",
              "\n",
              "  [theme=dark] .colab-df-quickchart {\n",
              "      --bg-color: #3B4455;\n",
              "      --fill-color: #D2E3FC;\n",
              "      --hover-bg-color: #434B5C;\n",
              "      --hover-fill-color: #FFFFFF;\n",
              "      --disabled-bg-color: #3B4455;\n",
              "      --disabled-fill-color: #666;\n",
              "  }\n",
              "\n",
              "  .colab-df-quickchart {\n",
              "    background-color: var(--bg-color);\n",
              "    border: none;\n",
              "    border-radius: 50%;\n",
              "    cursor: pointer;\n",
              "    display: none;\n",
              "    fill: var(--fill-color);\n",
              "    height: 32px;\n",
              "    padding: 0;\n",
              "    width: 32px;\n",
              "  }\n",
              "\n",
              "  .colab-df-quickchart:hover {\n",
              "    background-color: var(--hover-bg-color);\n",
              "    box-shadow: 0 1px 2px rgba(60, 64, 67, 0.3), 0 1px 3px 1px rgba(60, 64, 67, 0.15);\n",
              "    fill: var(--button-hover-fill-color);\n",
              "  }\n",
              "\n",
              "  .colab-df-quickchart-complete:disabled,\n",
              "  .colab-df-quickchart-complete:disabled:hover {\n",
              "    background-color: var(--disabled-bg-color);\n",
              "    fill: var(--disabled-fill-color);\n",
              "    box-shadow: none;\n",
              "  }\n",
              "\n",
              "  .colab-df-spinner {\n",
              "    border: 2px solid var(--fill-color);\n",
              "    border-color: transparent;\n",
              "    border-bottom-color: var(--fill-color);\n",
              "    animation:\n",
              "      spin 1s steps(1) infinite;\n",
              "  }\n",
              "\n",
              "  @keyframes spin {\n",
              "    0% {\n",
              "      border-color: transparent;\n",
              "      border-bottom-color: var(--fill-color);\n",
              "      border-left-color: var(--fill-color);\n",
              "    }\n",
              "    20% {\n",
              "      border-color: transparent;\n",
              "      border-left-color: var(--fill-color);\n",
              "      border-top-color: var(--fill-color);\n",
              "    }\n",
              "    30% {\n",
              "      border-color: transparent;\n",
              "      border-left-color: var(--fill-color);\n",
              "      border-top-color: var(--fill-color);\n",
              "      border-right-color: var(--fill-color);\n",
              "    }\n",
              "    40% {\n",
              "      border-color: transparent;\n",
              "      border-right-color: var(--fill-color);\n",
              "      border-top-color: var(--fill-color);\n",
              "    }\n",
              "    60% {\n",
              "      border-color: transparent;\n",
              "      border-right-color: var(--fill-color);\n",
              "    }\n",
              "    80% {\n",
              "      border-color: transparent;\n",
              "      border-right-color: var(--fill-color);\n",
              "      border-bottom-color: var(--fill-color);\n",
              "    }\n",
              "    90% {\n",
              "      border-color: transparent;\n",
              "      border-bottom-color: var(--fill-color);\n",
              "    }\n",
              "  }\n",
              "</style>\n",
              "\n",
              "  <script>\n",
              "    async function quickchart(key) {\n",
              "      const quickchartButtonEl =\n",
              "        document.querySelector('#' + key + ' button');\n",
              "      quickchartButtonEl.disabled = true;  // To prevent multiple clicks.\n",
              "      quickchartButtonEl.classList.add('colab-df-spinner');\n",
              "      try {\n",
              "        const charts = await google.colab.kernel.invokeFunction(\n",
              "            'suggestCharts', [key], {});\n",
              "      } catch (error) {\n",
              "        console.error('Error during call to suggestCharts:', error);\n",
              "      }\n",
              "      quickchartButtonEl.classList.remove('colab-df-spinner');\n",
              "      quickchartButtonEl.classList.add('colab-df-quickchart-complete');\n",
              "    }\n",
              "    (() => {\n",
              "      let quickchartButtonEl =\n",
              "        document.querySelector('#df-cad71c55-e950-4c52-a839-f4cbeb1a85a6 button');\n",
              "      quickchartButtonEl.style.display =\n",
              "        google.colab.kernel.accessAllowed ? 'block' : 'none';\n",
              "    })();\n",
              "  </script>\n",
              "</div>\n",
              "\n",
              "    </div>\n",
              "  </div>\n"
            ],
            "application/vnd.google.colaboratory.intrinsic+json": {
              "type": "dataframe",
              "variable_name": "df_white",
              "summary": "{\n  \"name\": \"df_white\",\n  \"rows\": 4898,\n  \"fields\": [\n    {\n      \"column\": \"type\",\n      \"properties\": {\n        \"dtype\": \"category\",\n        \"num_unique_values\": 1,\n        \"samples\": [\n          \"white\"\n        ],\n        \"semantic_type\": \"\",\n        \"description\": \"\"\n      }\n    },\n    {\n      \"column\": \"fixed acidity\",\n      \"properties\": {\n        \"dtype\": \"number\",\n        \"std\": 0.8438682276875188,\n        \"min\": 3.8,\n        \"max\": 14.2,\n        \"num_unique_values\": 68,\n        \"samples\": [\n          10.3\n        ],\n        \"semantic_type\": \"\",\n        \"description\": \"\"\n      }\n    },\n    {\n      \"column\": \"volatile acidity\",\n      \"properties\": {\n        \"dtype\": \"number\",\n        \"std\": 0.10079454842486428,\n        \"min\": 0.08,\n        \"max\": 1.1,\n        \"num_unique_values\": 125,\n        \"samples\": [\n          0.14\n        ],\n        \"semantic_type\": \"\",\n        \"description\": \"\"\n      }\n    },\n    {\n      \"column\": \"citric acid\",\n      \"properties\": {\n        \"dtype\": \"number\",\n        \"std\": 0.12101980420298301,\n        \"min\": 0.0,\n        \"max\": 1.66,\n        \"num_unique_values\": 87,\n        \"samples\": [\n          0.64\n        ],\n        \"semantic_type\": \"\",\n        \"description\": \"\"\n      }\n    },\n    {\n      \"column\": \"residual sugar\",\n      \"properties\": {\n        \"dtype\": \"number\",\n        \"std\": 5.072057784014864,\n        \"min\": 0.6,\n        \"max\": 65.8,\n        \"num_unique_values\": 310,\n        \"samples\": [\n          15.5\n        ],\n        \"semantic_type\": \"\",\n        \"description\": \"\"\n      }\n    },\n    {\n      \"column\": \"chlorides\",\n      \"properties\": {\n        \"dtype\": \"number\",\n        \"std\": 0.02184796809372882,\n        \"min\": 0.009,\n        \"max\": 0.346,\n        \"num_unique_values\": 160,\n        \"samples\": [\n          0.167\n        ],\n        \"semantic_type\": \"\",\n        \"description\": \"\"\n      }\n    },\n    {\n      \"column\": \"free sulfur dioxide\",\n      \"properties\": {\n        \"dtype\": \"number\",\n        \"std\": 17.007137325232566,\n        \"min\": 2.0,\n        \"max\": 289.0,\n        \"num_unique_values\": 132,\n        \"samples\": [\n          24.0\n        ],\n        \"semantic_type\": \"\",\n        \"description\": \"\"\n      }\n    },\n    {\n      \"column\": \"total sulfur dioxide\",\n      \"properties\": {\n        \"dtype\": \"number\",\n        \"std\": 42.49806455414294,\n        \"min\": 9.0,\n        \"max\": 440.0,\n        \"num_unique_values\": 251,\n        \"samples\": [\n          260.0\n        ],\n        \"semantic_type\": \"\",\n        \"description\": \"\"\n      }\n    },\n    {\n      \"column\": \"density\",\n      \"properties\": {\n        \"dtype\": \"number\",\n        \"std\": 0.0029909069169369354,\n        \"min\": 0.98711,\n        \"max\": 1.03898,\n        \"num_unique_values\": 890,\n        \"samples\": [\n          0.99362\n        ],\n        \"semantic_type\": \"\",\n        \"description\": \"\"\n      }\n    },\n    {\n      \"column\": \"pH\",\n      \"properties\": {\n        \"dtype\": \"number\",\n        \"std\": 0.1510005996150667,\n        \"min\": 2.72,\n        \"max\": 3.82,\n        \"num_unique_values\": 103,\n        \"samples\": [\n          3.34\n        ],\n        \"semantic_type\": \"\",\n        \"description\": \"\"\n      }\n    },\n    {\n      \"column\": \"sulphates\",\n      \"properties\": {\n        \"dtype\": \"number\",\n        \"std\": 0.11412583394883138,\n        \"min\": 0.22,\n        \"max\": 1.08,\n        \"num_unique_values\": 79,\n        \"samples\": [\n          0.41\n        ],\n        \"semantic_type\": \"\",\n        \"description\": \"\"\n      }\n    },\n    {\n      \"column\": \"alcohol\",\n      \"properties\": {\n        \"dtype\": \"number\",\n        \"std\": 1.2306205677522648,\n        \"min\": 8.0,\n        \"max\": 14.2,\n        \"num_unique_values\": 103,\n        \"samples\": [\n          12.6\n        ],\n        \"semantic_type\": \"\",\n        \"description\": \"\"\n      }\n    },\n    {\n      \"column\": \"opinion\",\n      \"properties\": {\n        \"dtype\": \"number\",\n        \"std\": 0,\n        \"min\": 0,\n        \"max\": 1,\n        \"num_unique_values\": 2,\n        \"samples\": [\n          0\n        ],\n        \"semantic_type\": \"\",\n        \"description\": \"\"\n      }\n    }\n  ]\n}"
            }
          },
          "metadata": {},
          "execution_count": 4
        }
      ]
    },
    {
      "cell_type": "markdown",
      "source": [
        "---\n",
        "## **Etapa 3 - Análise das Variáveis**\n",
        "\n",
        "- **Listar as variáveis** presentes na base.\n",
        "- **Classificar as variáveis** em **discretas, categóricas ou contínuas**.\n",
        "- **Calcular estatísticas descritivas**, como **média e desvio padrão**.\n",
        "\n",
        "---"
      ],
      "metadata": {
        "id": "Ur6FeLd7Bbjq"
      }
    },
    {
      "cell_type": "code",
      "source": [
        "# Exibir todas as colunas da base de dados\n",
        "print(\"Variáveis presentes na base de vinhos brancos:\")\n",
        "print(df_white.columns.tolist())"
      ],
      "metadata": {
        "id": "c8Vmxa7kdYsw",
        "colab": {
          "base_uri": "https://localhost:8080/"
        },
        "outputId": "9d9fad34-6744-47a1-8e46-5bf5d63ce056"
      },
      "execution_count": 5,
      "outputs": [
        {
          "output_type": "stream",
          "name": "stdout",
          "text": [
            "Variáveis presentes na base de vinhos brancos:\n",
            "['type', 'fixed acidity', 'volatile acidity', 'citric acid', 'residual sugar', 'chlorides', 'free sulfur dioxide', 'total sulfur dioxide', 'density', 'pH', 'sulphates', 'alcohol', 'opinion']\n"
          ]
        }
      ]
    },
    {
      "cell_type": "code",
      "source": [
        "# Verificar os tipos de dados de cada variável\n",
        "print(\"Tipos de variáveis na base:\\n \")\n",
        "print(df_white.dtypes)"
      ],
      "metadata": {
        "colab": {
          "base_uri": "https://localhost:8080/"
        },
        "id": "oURO-IjuB_v_",
        "outputId": "9b398fbb-a2c9-4091-92ad-6089f96cfd32"
      },
      "execution_count": 6,
      "outputs": [
        {
          "output_type": "stream",
          "name": "stdout",
          "text": [
            "Tipos de variáveis na base:\n",
            " \n",
            "type                     object\n",
            "fixed acidity           float64\n",
            "volatile acidity        float64\n",
            "citric acid             float64\n",
            "residual sugar          float64\n",
            "chlorides               float64\n",
            "free sulfur dioxide     float64\n",
            "total sulfur dioxide    float64\n",
            "density                 float64\n",
            "pH                      float64\n",
            "sulphates               float64\n",
            "alcohol                 float64\n",
            "opinion                   int64\n",
            "dtype: object\n"
          ]
        }
      ]
    },
    {
      "cell_type": "code",
      "source": [
        "# Calcular média e desvio padrão de todas as variáveis numéricas\n",
        "stats = df_white.describe().T[['mean', 'std']]\n",
        "\n",
        "# Exibir os resultados utilizando display do pandas\n",
        "display(stats.style.set_caption(\"Estatísticas Descritivas\")) # Using pandas styling for caption"
      ],
      "metadata": {
        "colab": {
          "base_uri": "https://localhost:8080/",
          "height": 443
        },
        "id": "ZRN8NYeSCZNa",
        "outputId": "1fd45fdd-5539-4398-bf09-cdd6a5ba68e6"
      },
      "execution_count": 7,
      "outputs": [
        {
          "output_type": "display_data",
          "data": {
            "text/plain": [
              "<pandas.io.formats.style.Styler at 0x7ff17d4e34d0>"
            ],
            "text/html": [
              "<style type=\"text/css\">\n",
              "</style>\n",
              "<table id=\"T_ecff8\" class=\"dataframe\">\n",
              "  <caption>Estatísticas Descritivas</caption>\n",
              "  <thead>\n",
              "    <tr>\n",
              "      <th class=\"blank level0\" >&nbsp;</th>\n",
              "      <th id=\"T_ecff8_level0_col0\" class=\"col_heading level0 col0\" >mean</th>\n",
              "      <th id=\"T_ecff8_level0_col1\" class=\"col_heading level0 col1\" >std</th>\n",
              "    </tr>\n",
              "  </thead>\n",
              "  <tbody>\n",
              "    <tr>\n",
              "      <th id=\"T_ecff8_level0_row0\" class=\"row_heading level0 row0\" >fixed acidity</th>\n",
              "      <td id=\"T_ecff8_row0_col0\" class=\"data row0 col0\" >6.854788</td>\n",
              "      <td id=\"T_ecff8_row0_col1\" class=\"data row0 col1\" >0.843868</td>\n",
              "    </tr>\n",
              "    <tr>\n",
              "      <th id=\"T_ecff8_level0_row1\" class=\"row_heading level0 row1\" >volatile acidity</th>\n",
              "      <td id=\"T_ecff8_row1_col0\" class=\"data row1 col0\" >0.278241</td>\n",
              "      <td id=\"T_ecff8_row1_col1\" class=\"data row1 col1\" >0.100795</td>\n",
              "    </tr>\n",
              "    <tr>\n",
              "      <th id=\"T_ecff8_level0_row2\" class=\"row_heading level0 row2\" >citric acid</th>\n",
              "      <td id=\"T_ecff8_row2_col0\" class=\"data row2 col0\" >0.334192</td>\n",
              "      <td id=\"T_ecff8_row2_col1\" class=\"data row2 col1\" >0.121020</td>\n",
              "    </tr>\n",
              "    <tr>\n",
              "      <th id=\"T_ecff8_level0_row3\" class=\"row_heading level0 row3\" >residual sugar</th>\n",
              "      <td id=\"T_ecff8_row3_col0\" class=\"data row3 col0\" >6.391415</td>\n",
              "      <td id=\"T_ecff8_row3_col1\" class=\"data row3 col1\" >5.072058</td>\n",
              "    </tr>\n",
              "    <tr>\n",
              "      <th id=\"T_ecff8_level0_row4\" class=\"row_heading level0 row4\" >chlorides</th>\n",
              "      <td id=\"T_ecff8_row4_col0\" class=\"data row4 col0\" >0.045772</td>\n",
              "      <td id=\"T_ecff8_row4_col1\" class=\"data row4 col1\" >0.021848</td>\n",
              "    </tr>\n",
              "    <tr>\n",
              "      <th id=\"T_ecff8_level0_row5\" class=\"row_heading level0 row5\" >free sulfur dioxide</th>\n",
              "      <td id=\"T_ecff8_row5_col0\" class=\"data row5 col0\" >35.308085</td>\n",
              "      <td id=\"T_ecff8_row5_col1\" class=\"data row5 col1\" >17.007137</td>\n",
              "    </tr>\n",
              "    <tr>\n",
              "      <th id=\"T_ecff8_level0_row6\" class=\"row_heading level0 row6\" >total sulfur dioxide</th>\n",
              "      <td id=\"T_ecff8_row6_col0\" class=\"data row6 col0\" >138.360657</td>\n",
              "      <td id=\"T_ecff8_row6_col1\" class=\"data row6 col1\" >42.498065</td>\n",
              "    </tr>\n",
              "    <tr>\n",
              "      <th id=\"T_ecff8_level0_row7\" class=\"row_heading level0 row7\" >density</th>\n",
              "      <td id=\"T_ecff8_row7_col0\" class=\"data row7 col0\" >0.994027</td>\n",
              "      <td id=\"T_ecff8_row7_col1\" class=\"data row7 col1\" >0.002991</td>\n",
              "    </tr>\n",
              "    <tr>\n",
              "      <th id=\"T_ecff8_level0_row8\" class=\"row_heading level0 row8\" >pH</th>\n",
              "      <td id=\"T_ecff8_row8_col0\" class=\"data row8 col0\" >3.188267</td>\n",
              "      <td id=\"T_ecff8_row8_col1\" class=\"data row8 col1\" >0.151001</td>\n",
              "    </tr>\n",
              "    <tr>\n",
              "      <th id=\"T_ecff8_level0_row9\" class=\"row_heading level0 row9\" >sulphates</th>\n",
              "      <td id=\"T_ecff8_row9_col0\" class=\"data row9 col0\" >0.489847</td>\n",
              "      <td id=\"T_ecff8_row9_col1\" class=\"data row9 col1\" >0.114126</td>\n",
              "    </tr>\n",
              "    <tr>\n",
              "      <th id=\"T_ecff8_level0_row10\" class=\"row_heading level0 row10\" >alcohol</th>\n",
              "      <td id=\"T_ecff8_row10_col0\" class=\"data row10 col0\" >10.514267</td>\n",
              "      <td id=\"T_ecff8_row10_col1\" class=\"data row10 col1\" >1.230621</td>\n",
              "    </tr>\n",
              "    <tr>\n",
              "      <th id=\"T_ecff8_level0_row11\" class=\"row_heading level0 row11\" >opinion</th>\n",
              "      <td id=\"T_ecff8_row11_col0\" class=\"data row11 col0\" >0.665169</td>\n",
              "      <td id=\"T_ecff8_row11_col1\" class=\"data row11 col1\" >0.471979</td>\n",
              "    </tr>\n",
              "  </tbody>\n",
              "</table>\n"
            ]
          },
          "metadata": {}
        }
      ]
    },
    {
      "cell_type": "markdown",
      "source": [
        "---\n",
        "## **Valores ausentes**\n",
        "\n",
        "- Antes da próxima etapa, considerei **`contar quantos valores ausentes (NaN)`** existem em cada coluna, para esse dataset não temos registros de valores ausentes. Como não temos, não será necessário utilizar uma estratégia para tratamento\n",
        "---"
      ],
      "metadata": {
        "id": "YZYNeQIvDpA4"
      }
    },
    {
      "cell_type": "code",
      "source": [
        "# Contar valores ausentes em cada coluna\n",
        "missing_values = df_white.isnull().sum()\n",
        "print(missing_values)"
      ],
      "metadata": {
        "colab": {
          "base_uri": "https://localhost:8080/"
        },
        "id": "c3c4fZ6yDHVg",
        "outputId": "5f507fac-7f4b-4cfc-9cc4-9fb6c56f86fb"
      },
      "execution_count": 8,
      "outputs": [
        {
          "output_type": "stream",
          "name": "stdout",
          "text": [
            "type                    0\n",
            "fixed acidity           0\n",
            "volatile acidity        0\n",
            "citric acid             0\n",
            "residual sugar          0\n",
            "chlorides               0\n",
            "free sulfur dioxide     0\n",
            "total sulfur dioxide    0\n",
            "density                 0\n",
            "pH                      0\n",
            "sulphates               0\n",
            "alcohol                 0\n",
            "opinion                 0\n",
            "dtype: int64\n"
          ]
        }
      ]
    },
    {
      "cell_type": "markdown",
      "source": [
        "---\n",
        "## **Etapa 4 - Modelagem Preditiva**\n",
        "\n",
        "Utilizaremos **apenas os vinhos brancos** para o treinamento dos modelos.\n",
        "\n",
        "### **4.1 - Construção do Modelo**\n",
        "Passos para criar um **modelo de classificação eficiente**:\n",
        "1. **Pré-processamento dos dados** (padronização, limpeza, separação entre treino/teste).\n",
        "2. **Escolha dos modelos de Machine Learning** para experimentação.\n",
        "3. **Validação cruzada estratificada (k-fold = 10)** para avaliar a generalização.\n",
        "4. **Treinamento e ajuste dos hiperparâmetros** para otimização.\n",
        "5. **Avaliação com métricas padronizadas**.\n",
        "---"
      ],
      "metadata": {
        "id": "L94hZSepFORk"
      }
    },
    {
      "cell_type": "code",
      "source": [
        "from sklearn.model_selection import train_test_split\n",
        "from sklearn.preprocessing import StandardScaler\n",
        "\n",
        "# Remover a coluna categórica 'type' antes da modelagem\n",
        "X = df_white.drop(columns=[\"opinion\", \"type\"])  # Removendo 'type'\n",
        "y = df_white[\"opinion\"]\n",
        "\n",
        "# Dividir os dados em treino (80%) e teste (20%)\n",
        "X_train, X_test, y_train, y_test = train_test_split(X, y, test_size=0.2, random_state=42, stratify=y)\n",
        "\n",
        "# Padronizar os dados (somente variáveis numéricas)\n",
        "scaler = StandardScaler()\n",
        "X_train_scaled = scaler.fit_transform(X_train)\n",
        "X_test_scaled = scaler.transform(X_test)\n",
        "\n",
        "print(\"Dados corrigidos e preparados para modelagem!\")\n"
      ],
      "metadata": {
        "colab": {
          "base_uri": "https://localhost:8080/"
        },
        "id": "kGChIMLsFNUH",
        "outputId": "edb30c8a-8ae6-4e0e-934d-8dbfbbfaa093"
      },
      "execution_count": 9,
      "outputs": [
        {
          "output_type": "stream",
          "name": "stdout",
          "text": [
            "Dados corrigidos e preparados para modelagem!\n"
          ]
        }
      ]
    },
    {
      "cell_type": "markdown",
      "source": [
        "---\n",
        "## **Função para Avaliação dos Modelos**\n",
        "\n",
        "Nessa etapa criei uma função que aplicará a **`Validação Cruzada (k=10)`** e calculará as **`métricas`**:\n",
        "\n",
        "- Acurácia\n",
        "- Precisão\n",
        "- Recall\n",
        "- F1-Score\n",
        "---\n"
      ],
      "metadata": {
        "id": "MgdWQQ8SHZtB"
      }
    },
    {
      "cell_type": "code",
      "source": [
        "from sklearn.model_selection import cross_val_score, StratifiedKFold\n",
        "from sklearn.metrics import make_scorer, accuracy_score, precision_score, recall_score, f1_score\n",
        "import numpy as np\n",
        "\n",
        "# Criar um validador estratificado com k=10\n",
        "cv = StratifiedKFold(n_splits=10, shuffle=True, random_state=42)\n",
        "\n",
        "# Função para treinar e avaliar um modelo com validação cruzada\n",
        "def avaliar_modelo(modelo, X_train, y_train):\n",
        "    scores = {\n",
        "        \"Acurácia\": cross_val_score(modelo, X_train, y_train, cv=cv, scoring=\"accuracy\"),\n",
        "        \"Precisão\": cross_val_score(modelo, X_train, y_train, cv=cv, scoring=\"precision\"),\n",
        "        \"Recall\": cross_val_score(modelo, X_train, y_train, cv=cv, scoring=\"recall\"),\n",
        "        \"F1-Score\": cross_val_score(modelo, X_train, y_train, cv=cv, scoring=\"f1\")\n",
        "    }\n",
        "\n",
        "    # Exibir os resultados médios e desvios padrão\n",
        "    for metric, values in scores.items():\n",
        "        print(f\"{metric}: {np.mean(values):.4f} ± {np.std(values):.4f}\")\n",
        "\n",
        "    return scores"
      ],
      "metadata": {
        "id": "T78kzox9HOr2"
      },
      "execution_count": 10,
      "outputs": []
    },
    {
      "cell_type": "markdown",
      "source": [
        "---\n",
        "### **4.2 - Regressão Logística**\n",
        "Treinamos um **modelo de regressão logística** com **validação cruzada estratificada (k=10)**.  \n",
        "Avaliamos os seguintes indicadores na base de teste:\n",
        "- **Média e desvio padrão da acurácia**.\n",
        "- **Média e desvio padrão da precisão**.\n",
        "- **Média e desvio padrão do recall**.\n",
        "- **Média e desvio padrão do F1-score**.\n",
        "---"
      ],
      "metadata": {
        "id": "y0ON30LsG6UL"
      }
    },
    {
      "cell_type": "code",
      "source": [
        "from sklearn.linear_model import LogisticRegression\n",
        "\n",
        "# Criar o modelo\n",
        "modelo_log = LogisticRegression(random_state=42)\n",
        "\n",
        "# Avaliar o modelo\n",
        "print(\"Avaliação da Regressão Logística:\\n \")\n",
        "print(avaliar_modelo(modelo_log, X_train_scaled, y_train))"
      ],
      "metadata": {
        "colab": {
          "base_uri": "https://localhost:8080/"
        },
        "id": "IZZ70lqLG4Yp",
        "outputId": "8cc32b14-8d07-485a-eb97-7af98f146eea"
      },
      "execution_count": 11,
      "outputs": [
        {
          "output_type": "stream",
          "name": "stdout",
          "text": [
            "Avaliação da Regressão Logística:\n",
            " \n",
            "Acurácia: 0.7519 ± 0.0207\n",
            "Precisão: 0.7788 ± 0.0188\n",
            "Recall: 0.8768 ± 0.0264\n",
            "F1-Score: 0.8246 ± 0.0146\n",
            "{'Acurácia': array([0.76530612, 0.79591837, 0.75255102, 0.75255102, 0.7627551 ,\n",
            "       0.72959184, 0.74744898, 0.72193878, 0.76214834, 0.72890026]), 'Precisão': array([0.79649123, 0.79672131, 0.78082192, 0.79078014, 0.79577465,\n",
            "       0.74919614, 0.79487179, 0.74592834, 0.77377049, 0.76369863]), 'Recall': array([0.8697318 , 0.93103448, 0.87356322, 0.85440613, 0.86590038,\n",
            "       0.89272031, 0.83461538, 0.88076923, 0.90769231, 0.85769231]), 'F1-Score': array([0.83150183, 0.85865724, 0.82459313, 0.8213628 , 0.8293578 ,\n",
            "       0.81468531, 0.81425891, 0.80776014, 0.83539823, 0.80797101])}\n"
          ]
        }
      ]
    },
    {
      "cell_type": "markdown",
      "source": [
        "---\n",
        "### **4.3 - Árvores de Decisão**\n",
        "Treinamos um **modelo de Árvore de Decisão** com **validação cruzada estratificada (k=10)**.  \n",
        "Avaliamos os mesmos indicadores:\n",
        "- **Média e desvio padrão da acurácia**.\n",
        "- **Média e desvio padrão da precisão**.\n",
        "- **Média e desvio padrão do recall**.\n",
        "- **Média e desvio padrão do F1-score**.\n",
        "---"
      ],
      "metadata": {
        "id": "_D4JJwQcJBz4"
      }
    },
    {
      "cell_type": "code",
      "source": [
        "from sklearn.tree import DecisionTreeClassifier\n",
        "\n",
        "# Criar o modelo\n",
        "modelo_tree = DecisionTreeClassifier(random_state=42)\n",
        "\n",
        "# Avaliar o modelo\n",
        "print(\"Avaliação da Árvore de Decisão:\\n \")\n",
        "print(avaliar_modelo(modelo_tree, X_train, y_train))  # Sem padronização para árvore\n"
      ],
      "metadata": {
        "colab": {
          "base_uri": "https://localhost:8080/"
        },
        "id": "Epu_DAZKJBKo",
        "outputId": "9cf139a5-6260-4ae8-ccbf-8447d1e240f7"
      },
      "execution_count": 12,
      "outputs": [
        {
          "output_type": "stream",
          "name": "stdout",
          "text": [
            "Avaliação da Árvore de Decisão:\n",
            " \n",
            "Acurácia: 0.7854 ± 0.0237\n",
            "Precisão: 0.8392 ± 0.0230\n",
            "Recall: 0.8385 ± 0.0186\n",
            "F1-Score: 0.8387 ± 0.0172\n",
            "{'Acurácia': array([0.73979592, 0.80867347, 0.78061224, 0.81632653, 0.79591837,\n",
            "       0.78571429, 0.77295918, 0.76530612, 0.81841432, 0.76982097]), 'Precisão': array([0.80228137, 0.86046512, 0.83269962, 0.87351779, 0.86639676,\n",
            "       0.83396226, 0.83529412, 0.82061069, 0.85660377, 0.81021898]), 'Recall': array([0.80842912, 0.85057471, 0.83908046, 0.8467433 , 0.81992337,\n",
            "       0.8467433 , 0.81923077, 0.82692308, 0.87307692, 0.85384615]), 'F1-Score': array([0.80534351, 0.85549133, 0.83587786, 0.85992218, 0.84251969,\n",
            "       0.84030418, 0.82718447, 0.82375479, 0.8647619 , 0.83146067])}\n"
          ]
        }
      ]
    },
    {
      "cell_type": "markdown",
      "source": [
        "---\n",
        "### **4.4 - Suporte a Vetores (SVM)**\n",
        "Treinamos um **modelo de SVM (Support Vector Machine)** com **validação cruzada estratificada (k=10)**.  \n",
        "Avaliamos os seguintes indicadores:\n",
        "- **Média e desvio padrão da acurácia**.\n",
        "- **Média e desvio padrão da precisão**.\n",
        "- **Média e desvio padrão do recall**.\n",
        "- **Média e desvio padrão do F1-score**.\n",
        "\n",
        "---"
      ],
      "metadata": {
        "id": "-rfnKVRYJvVo"
      }
    },
    {
      "cell_type": "code",
      "source": [
        "from sklearn.svm import SVC\n",
        "\n",
        "# Criar o modelo\n",
        "modelo_svm = SVC(random_state=42)\n",
        "\n",
        "# Avaliar o modelo\n",
        "print(\"Avaliação do SVM:\\n\")\n",
        "print(avaliar_modelo(modelo_svm, X_train_scaled, y_train))\n"
      ],
      "metadata": {
        "colab": {
          "base_uri": "https://localhost:8080/"
        },
        "id": "heX1CYN7J46_",
        "outputId": "e665ee12-bdd8-4c74-d46e-15917ab83646"
      },
      "execution_count": 13,
      "outputs": [
        {
          "output_type": "stream",
          "name": "stdout",
          "text": [
            "Avaliação do SVM:\n",
            "\n",
            "Acurácia: 0.7836 ± 0.0197\n",
            "Precisão: 0.8154 ± 0.0183\n",
            "Recall: 0.8726 ± 0.0186\n",
            "F1-Score: 0.8429 ± 0.0138\n",
            "{'Acurácia': array([0.76785714, 0.81122449, 0.82142857, 0.78316327, 0.7755102 ,\n",
            "       0.74744898, 0.78826531, 0.77806122, 0.7826087 , 0.78005115]), 'Precisão': array([0.8125    , 0.82578397, 0.84727273, 0.81654676, 0.82156134,\n",
            "       0.77364865, 0.83146067, 0.80565371, 0.81362007, 0.80633803]), 'Recall': array([0.8467433 , 0.90804598, 0.89272031, 0.8697318 , 0.8467433 ,\n",
            "       0.87739464, 0.85384615, 0.87692308, 0.87307692, 0.88076923]), 'F1-Score': array([0.82926829, 0.8649635 , 0.86940299, 0.84230056, 0.83396226,\n",
            "       0.82226212, 0.84250474, 0.83977901, 0.84230056, 0.84191176])}\n"
          ]
        }
      ]
    },
    {
      "cell_type": "markdown",
      "source": [
        "---\n",
        "## **Etapa 5 - Escolha do Melhor Modelo**\n",
        "\n",
        "- Comparação dos **modelos anteriores**.\n",
        "- **Plot da curva ROC média** para cada modelo.\n",
        "- Justificativa da escolha do **modelo final para produção**.\n",
        "\n",
        "---"
      ],
      "metadata": {
        "id": "KQT3eNMUKbFZ"
      }
    },
    {
      "cell_type": "code",
      "source": [
        "from sklearn.linear_model import LogisticRegression\n",
        "from sklearn.tree import DecisionTreeClassifier\n",
        "from sklearn.svm import SVC\n",
        "from sklearn.metrics import roc_curve, auc\n",
        "import numpy as np\n",
        "import matplotlib.pyplot as plt\n",
        "\n",
        "# Criar os modelos\n",
        "modelo_log = LogisticRegression(random_state=42)\n",
        "modelo_tree = DecisionTreeClassifier(random_state=42)\n",
        "modelo_svm = SVC(probability=True, random_state=42)  # SVM precisa de probability=True para ROC\n",
        "\n",
        "# Treinar os modelos\n",
        "modelo_log.fit(X_train_scaled, y_train)\n",
        "modelo_tree.fit(X_train, y_train)  # Árvore de decisão não precisa de padronização\n",
        "modelo_svm.fit(X_train_scaled, y_train)\n",
        "\n",
        "# Calcular probabilidades preditas para a curva ROC\n",
        "y_scores_log = modelo_log.predict_proba(X_test_scaled)[:, 1]\n",
        "y_scores_tree = modelo_tree.predict_proba(X_test)[:, 1]\n",
        "y_scores_svm = modelo_svm.predict_proba(X_test_scaled)[:, 1]\n",
        "\n",
        "# Calcular a curva ROC\n",
        "fpr_log, tpr_log, _ = roc_curve(y_test, y_scores_log)\n",
        "fpr_tree, tpr_tree, _ = roc_curve(y_test, y_scores_tree)\n",
        "fpr_svm, tpr_svm, _ = roc_curve(y_test, y_scores_svm)\n",
        "\n",
        "# Calcular a área sob a curva (AUC)\n",
        "auc_log = auc(fpr_log, tpr_log)\n",
        "auc_tree = auc(fpr_tree, tpr_tree)\n",
        "auc_svm = auc(fpr_svm, tpr_svm)\n",
        "\n",
        "# Exibir os valores de AUC\n",
        "print(f\"AUC Regressão Logística: {auc_log:.4f}\")\n",
        "print(f\"AUC Árvore de Decisão: {auc_tree:.4f}\")\n",
        "print(f\"AUC SVM: {auc_svm:.4f}\")"
      ],
      "metadata": {
        "colab": {
          "base_uri": "https://localhost:8080/"
        },
        "id": "drVSYAm7K6vC",
        "outputId": "fc9c2de5-8237-4b62-fa6c-1dc8503557a8"
      },
      "execution_count": 14,
      "outputs": [
        {
          "output_type": "stream",
          "name": "stdout",
          "text": [
            "AUC Regressão Logística: 0.7912\n",
            "AUC Árvore de Decisão: 0.7517\n",
            "AUC SVM: 0.8288\n"
          ]
        }
      ]
    },
    {
      "cell_type": "code",
      "source": [
        "# Criar a figura da Curva ROC\n",
        "plt.figure(figsize=(8, 6))\n",
        "\n",
        "# Plot das curvas ROC\n",
        "plt.plot(fpr_log, tpr_log, label=f\"Regressão Logística (AUC = {auc_log:.2f})\")\n",
        "plt.plot(fpr_tree, tpr_tree, label=f\"Árvore de Decisão (AUC = {auc_tree:.2f})\")\n",
        "plt.plot(fpr_svm, tpr_svm, label=f\"SVM (AUC = {auc_svm:.2f})\")\n",
        "\n",
        "# Linha diagonal (random classifier)\n",
        "plt.plot([0, 1], [0, 1], 'k--', label=\"Random Classifier\")\n",
        "\n",
        "# Configurações do gráfico\n",
        "plt.xlabel(\"Taxa de Falsos Positivos (FPR)\")\n",
        "plt.ylabel(\"Taxa de Verdadeiros Positivos (TPR)\")\n",
        "plt.title(\"Curva ROC - Comparação dos Modelos\")\n",
        "plt.legend()\n",
        "plt.show()"
      ],
      "metadata": {
        "colab": {
          "base_uri": "https://localhost:8080/",
          "height": 564
        },
        "id": "Aki99J3SLROV",
        "outputId": "4ec5f857-5b33-4985-e193-0f47a0b1e6df"
      },
      "execution_count": 15,
      "outputs": [
        {
          "output_type": "display_data",
          "data": {
            "text/plain": [
              "<Figure size 800x600 with 1 Axes>"
            ],
            "image/png": "[encoded data removed]"
          },
          "metadata": {}
        }
      ]
    },
    {
      "cell_type": "markdown",
      "source": [
        "## **Plot da Curva ROC para Comparação**\n",
        "\n",
        "### **Análise Comparativa dos Modelos - Curva ROC**\n",
        "\n",
        "### **Regressão Logística (AUC = 0.79)**\n",
        "- **Desempenho bom**, com uma **AUC de 0.79**, indicando uma boa separação entre classes.  \n",
        "- O modelo apresenta **bom equilíbrio entre precisão e recall**, mas **não é o melhor** da comparação.  \n",
        "- Pode ser mais adequado se for necessário um **modelo simples e interpretável**.  \n",
        "\n",
        "---\n",
        "\n",
        "### **Árvore de Decisão (AUC = 0.75)**\n",
        "- **Modelo mais simples e interpretável**, útil para entender **critérios de decisão**.  \n",
        "- **A menor AUC (0.75)** entre os modelos indica que pode estar **superajustado** aos dados de treino ou não generalizar bem.  \n",
        "- A curva ROC **não é tão suave**, sugerindo que pode ser **sensível a outliers** e variações nos dados.  \n",
        "\n",
        "---\n",
        "\n",
        "### **SVM - Máquinas de Vetores de Suporte (AUC = 0.83)**\n",
        "- **Melhor desempenho geral** com **AUC de 0.83**, indicando a melhor separação entre classes.  \n",
        "- O modelo **generaliza bem** e **tem uma curva ROC mais suave**, o que sugere melhor estabilidade.  \n",
        "- **Pode ser mais lento** para grandes volumes de dados devido ao **alto custo computacional**.  \n",
        "\n",
        "---"
      ],
      "metadata": {
        "id": "EMLjPZJYLkGA"
      }
    },
    {
      "cell_type": "markdown",
      "source": [
        "## **Conclusão: Melhor Modelo**\n",
        "- **SVM é a melhor escolha** para este problema, pois obteve a **maior AUC (0.83)**, sugerindo que tem **maior capacidade de distinguir os vinhos bons dos ruins**.  \n",
        "- No entanto, se o tempo de execução for um fator importante, a **Regressão Logística** pode ser uma alternativa viável.  \n",
        "\n",
        "\n",
        "---"
      ],
      "metadata": {
        "id": "bXpN_M8JNvI5"
      }
    },
    {
      "cell_type": "markdown",
      "source": [
        "## **Etapa 6 - Inferência com Vinhos Tintos**\n",
        "\n",
        "- Aplicar **o modelo escolhido** para prever a qualidade dos **vinhos tintos**.\n",
        "- **Não treinar novamente!** Utilizar apenas os pesos do modelo treinado.\n",
        "- Determinar **quantos vinhos são bons ou ruins**.\n",
        "- Comparar o desempenho **entre vinhos brancos e tintos**.\n",
        "- Responder: **O modelo funciona da mesma forma para essa nova base?** Justificar."
      ],
      "metadata": {
        "id": "9P8FIecjOqDb"
      }
    },
    {
      "cell_type": "code",
      "source": [
        "# Remover colunas desnecessárias (incluindo 'opinion')\n",
        "df_red = df_red.drop(columns=[\"quality\", \"type\", \"opinion\"], errors=\"ignore\")\n",
        "\n",
        "# Garantir que as colunas de X_red estejam na mesma ordem de X_train\n",
        "df_red = df_red[X.columns]  # Reordenando as colunas para garantir consistência\n",
        "\n",
        "# Aplicar a mesma padronização usada nos vinhos brancos\n",
        "X_red_scaled = scaler.transform(df_red)\n",
        "\n",
        "print(\"✅ Vinhos tintos preparados para inferência!\")\n"
      ],
      "metadata": {
        "colab": {
          "base_uri": "https://localhost:8080/"
        },
        "id": "1rcv8ZKu_1fB",
        "outputId": "a0e31015-8983-4ee6-e9d3-efebff4fa138"
      },
      "execution_count": 18,
      "outputs": [
        {
          "output_type": "stream",
          "name": "stdout",
          "text": [
            "✅ Vinhos tintos preparados para inferência!\n"
          ]
        }
      ]
    },
    {
      "cell_type": "code",
      "source": [
        "# Fazer previsões usando o modelo já treinado\n",
        "y_pred_red = modelo_svm.predict(X_red_scaled)\n",
        "\n",
        "# Adicionar as previsões ao DataFrame\n",
        "df_red[\"predicted_opinion\"] = y_pred_red\n",
        "\n",
        "# Contar quantos vinhos foram classificados como bons (1) e ruins (0)\n",
        "wine_counts = df_red[\"predicted_opinion\"].value_counts()\n",
        "\n",
        "# Exibir os resultados\n",
        "print(\"🔹 Classificação dos Vinhos Tintos:\")\n",
        "print(f\"Vinhos Bons (opinion = 1): {wine_counts.get(1, 0)}\")\n",
        "print(f\"Vinhos Ruins (opinion = 0): {wine_counts.get(0, 0)}\")\n"
      ],
      "metadata": {
        "colab": {
          "base_uri": "https://localhost:8080/"
        },
        "id": "C0Gz42LPA4Bo",
        "outputId": "1bb5913d-3f6b-4b2d-90c3-c87009bd4393"
      },
      "execution_count": 19,
      "outputs": [
        {
          "output_type": "stream",
          "name": "stdout",
          "text": [
            "🔹 Classificação dos Vinhos Tintos:\n",
            "Vinhos Bons (opinion = 1): 130\n",
            "Vinhos Ruins (opinion = 0): 1469\n"
          ]
        }
      ]
    },
    {
      "cell_type": "code",
      "source": [
        "import matplotlib.pyplot as plt\n",
        "\n",
        "# Contagem de vinhos brancos bons e ruins\n",
        "white_counts = df_white[\"opinion\"].value_counts()\n",
        "\n",
        "# Criar gráfico comparativo\n",
        "labels = [\"Vinhos Ruins (opinion=0)\", \"Vinhos Bons (opinion=1)\"]\n",
        "white_values = [white_counts.get(0, 0), white_counts.get(1, 0)]\n",
        "red_values = [wine_counts.get(0, 0), wine_counts.get(1, 0)]\n",
        "\n",
        "x = range(len(labels))\n",
        "\n",
        "plt.figure(figsize=(8,6))\n",
        "plt.bar(x, white_values, width=0.4, label=\"Vinhos Brancos\", alpha=0.7)\n",
        "plt.bar([i + 0.4 for i in x], red_values, width=0.4, label=\"Vinhos Tintos\", alpha=0.7)\n",
        "\n",
        "plt.xticks([i + 0.2 for i in x], labels)\n",
        "plt.ylabel(\"Número de Vinhos\")\n",
        "plt.title(\"Comparação entre Vinhos Brancos e Tintos - Classificação do Modelo\")\n",
        "plt.legend()\n",
        "plt.show()"
      ],
      "metadata": {
        "colab": {
          "base_uri": "https://localhost:8080/",
          "height": 545
        },
        "id": "kZNciuazBDdT",
        "outputId": "a542c0d3-f272-457e-9b97-a00b0f710d87"
      },
      "execution_count": 20,
      "outputs": [
        {
          "output_type": "display_data",
          "data": {
            "text/plain": [
              "<Figure size 800x600 with 1 Axes>"
            ],
            "image/png": "[encoded data removed]"
          },
          "metadata": {}
        }
      ]
    },
    {
      "cell_type": "markdown",
      "source": [
        "---\n",
        "## **Etapa 6 - Inferência com Vinhos Tintos**\n",
        "\n",
        "### **Resumo dos Resultados**\n",
        "- **Vinhos Brancos**:\n",
        "  - Vinhos Ruins (opinion = 0): **~1.600**\n",
        "  - Vinhos Bons (opinion = 1): **~3.200**\n",
        "  \n",
        "- **Vinhos Tintos**:\n",
        "  - Vinhos Ruins (opinion = 0): **1.469**\n",
        "  - Vinhos Bons (opinion = 1): **130**\n",
        "\n",
        "---\n",
        "\n",
        "## **Minha Análise dos Resultados**\n",
        "Ao aplicar o modelo treinado com vinhos brancos para classificar os vinhos tintos, observei que **a grande maioria dos vinhos tintos foi classificada como ruim**. Isso contrasta com os vinhos brancos, onde houve uma proporção significativamente maior de vinhos bons.  \n",
        "\n",
        "Essa diferença sugere que o modelo **não generalizou bem para os vinhos tintos**. Como esses dois tipos de vinho podem ter **características químicas distintas**, é possível que o modelo tenha aprendido padrões específicos dos vinhos brancos, o que pode ter impactado seu desempenho na nova base.\n",
        "\n",
        "---\n",
        "\n",
        "## **O modelo funciona da mesma forma para os vinhos tintos?**\n",
        "**Não exatamente**. Embora o modelo tenha sido capaz de fazer previsões para os vinhos tintos, a distribuição das classificações sugere que ele pode **estar enviesado** para os padrões dos vinhos brancos.  \n",
        "\n",
        "Isso indica que **o modelo treinado apenas com vinhos brancos não é a melhor opção para classificar vinhos tintos**, pois ele pode não estar considerando adequadamente as diferenças entre os dois tipos de vinho.  \n",
        "\n",
        "---\n",
        "\n",
        "## **Sugestão de melhorias**\n",
        "Para melhorar o desempenho do modelo e torná-lo mais confiável para ambos os tipos de vinho, sugiro algumas abordagens:  \n",
        "\n",
        "- **Treinar um novo modelo utilizando ambas as bases** (vinhos brancos e tintos) para garantir melhor generalização.  \n",
        "- **Analisar as diferenças químicas entre os vinhos tintos e brancos** para entender melhor como essas variáveis influenciam na classificação.  \n",
        "- **Testar novos algoritmos ou ajustar os hiperparâmetros** do modelo para melhorar sua capacidade de generalização.  \n",
        "\n",
        "---\n",
        "\n",
        "## **Conclusão**\n",
        "Os resultados mostram que o modelo treinado com vinhos brancos **não conseguiu generalizar bem para os vinhos tintos**, pois classificou uma quantidade muito pequena de vinhos tintos como bons.  \n",
        "\n",
        "Para obter um modelo mais eficiente e preciso, acredito que **o ideal seria treinar o modelo com ambas as bases de vinho**. Dessa forma, ele poderia aprender as características de cada tipo e melhorar suas previsões.  \n",
        "\n",
        "**Projeto finalizado!**"
      ],
      "metadata": {
        "id": "wqEqisxVBVNW"
      }
    },
    {
      "cell_type": "markdown",
      "source": [
        "---\n",
        "\n",
        "## **Etapa 7 - Disponibilização do Código**\n",
        "\n",
        "- Subir todos os códigos no **GitHub** e fornecer o link do repositório.\n",
        "- O repositório deve conter o código referente às **questões 2-6**."
      ],
      "metadata": {
        "id": "5mMTQhGZQBJO"
      }
    },
    {
      "cell_type": "markdown",
      "source": [
        "## **Entrega Final**\n",
        "\n",
        "Após finalizar todas as etapas:\n",
        "1. **Salvar o trabalho em PDF**.\n",
        "2. **Postar no Moodle** com o seguinte formato de nome:\n",
        "   ```bash\n",
        "   nomedoaluno_nomedadisciplina_pd.PDF"
      ],
      "metadata": {
        "id": "PCMRul_iQJbL"
      }
    }
  ]
}